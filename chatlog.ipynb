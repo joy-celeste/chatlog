{
 "cells": [
  {
   "cell_type": "code",
   "execution_count": 600,
   "metadata": {},
   "outputs": [],
   "source": [
    "import pandas as pd\n",
    "import numpy as np\n",
    "import zipfile\n",
    "import matplotlib\n",
    "import matplotlib.pyplot as plt\n",
    "import seaborn as sns\n",
    "\n",
    "%matplotlib inline\n",
    "# plt.rcParams['figure.figsize'] = (12, 9)"
   ]
  },
  {
   "cell_type": "markdown",
   "metadata": {},
   "source": [
    "# Importing Data"
   ]
  },
  {
   "cell_type": "code",
   "execution_count": 601,
   "metadata": {},
   "outputs": [
    {
     "data": {
      "text/plain": [
       "Index(['audio_files', 'call_duration', 'content', 'files', 'gifs', 'missed',\n",
       "       'payment_info.amount', 'payment_info.completedTime',\n",
       "       'payment_info.creationTime', 'payment_info.currency',\n",
       "       'payment_info.receiverName', 'payment_info.senderName', 'photos',\n",
       "       'plan.timestamp', 'plan.title', 'reactions', 'sender_name',\n",
       "       'share.link', 'share.share_text', 'sticker.uri', 'timestamp_ms', 'type',\n",
       "       'videos'],\n",
       "      dtype='object')"
      ]
     },
     "execution_count": 601,
     "metadata": {},
     "output_type": "execute_result"
    }
   ],
   "source": [
    "import json\n",
    "from pandas.io.json import json_normalize\n",
    "\n",
    "# raw_data = pd.read_json(\"json/data.json\", orient=\"records\") ; works but fewer columns\n",
    "\n",
    "# Normalizing columns lets us get info from sub-arrays like 'share.link' and 'share.share_text'\n",
    "with open('json/data.json') as data_file:    \n",
    "    raw_data = json_normalize(json.load(data_file))\n",
    "\n",
    "raw_data.columns"
   ]
  },
  {
   "cell_type": "code",
   "execution_count": 602,
   "metadata": {},
   "outputs": [
    {
     "data": {
      "text/plain": [
       "Generic    34649\n",
       "Share        421\n",
       "Call          31\n",
       "Payment        3\n",
       "Plan           1\n",
       "Name: type, dtype: int64"
      ]
     },
     "execution_count": 602,
     "metadata": {},
     "output_type": "execute_result"
    }
   ],
   "source": [
    "raw_data['type'].value_counts()"
   ]
  },
  {
   "cell_type": "code",
   "execution_count": 603,
   "metadata": {},
   "outputs": [],
   "source": [
    "def decode_emoji(emoji):\n",
    "    # UTF8 emojis were incorrectly exported as Latin-1.\n",
    "    return emoji.encode('latin1').decode('utf8')\n",
    "\n",
    "def parse_reactions(r): \n",
    "    \"\"\" Parses and returns the reactions for a conversation between exactly two people.\n",
    "    \n",
    "    INPUT:  [{'reaction': 'ð\\x9f\\x91\\x8e', 'actor': 'Name1'},\n",
    "            {'reaction': 'ð\\x9f\\x98¢', 'actor': 'Name2'}]\n",
    "            \n",
    "    OUTPUT: \"Name1\", 😮, \"Name2\", 😍\n",
    "    \"\"\"\n",
    "    \n",
    "    if type(r) != list:\n",
    "        return None, None, None, None\n",
    "    \n",
    "    elif len(r) == 1:\n",
    "        return r[0]['actor'], decode_emoji(r[0]['reaction']), None, None\n",
    "    \n",
    "    else:\n",
    "        return r[0]['actor'], decode_emoji(r[0]['reaction']), r[1]['actor'], decode_emoji(r[1]['reaction'])"
   ]
  },
  {
   "cell_type": "code",
   "execution_count": 604,
   "metadata": {},
   "outputs": [],
   "source": [
    "# parse reaction data\n",
    "raw_data['actor1'], raw_data['reaction1'], raw_data['actor2'], raw_data['reaction2'] = \\\n",
    "    zip(*raw_data['reactions'].map(parse_reactions))\n",
    "\n",
    "# raw_data.head(3)"
   ]
  },
  {
   "cell_type": "markdown",
   "metadata": {},
   "source": [
    "# Initial Impressions"
   ]
  },
  {
   "cell_type": "code",
   "execution_count": 605,
   "metadata": {},
   "outputs": [
    {
     "name": "stdout",
     "output_type": "stream",
     "text": [
      "NOTE: Lost these many non-generic rows: 456 or 1.299%\n"
     ]
    },
    {
     "data": {
      "text/html": [
       "<div>\n",
       "<style scoped>\n",
       "    .dataframe tbody tr th:only-of-type {\n",
       "        vertical-align: middle;\n",
       "    }\n",
       "\n",
       "    .dataframe tbody tr th {\n",
       "        vertical-align: top;\n",
       "    }\n",
       "\n",
       "    .dataframe thead th {\n",
       "        text-align: right;\n",
       "    }\n",
       "</style>\n",
       "<table border=\"1\" class=\"dataframe\">\n",
       "  <thead>\n",
       "    <tr style=\"text-align: right;\">\n",
       "      <th></th>\n",
       "      <th>sender_name</th>\n",
       "      <th>timestamp_ms</th>\n",
       "      <th>content</th>\n",
       "      <th>actor1</th>\n",
       "      <th>reaction1</th>\n",
       "      <th>actor2</th>\n",
       "      <th>reaction2</th>\n",
       "    </tr>\n",
       "  </thead>\n",
       "  <tbody>\n",
       "    <tr>\n",
       "      <th>0</th>\n",
       "      <td>Joyce Luong</td>\n",
       "      <td>1550344792535</td>\n",
       "      <td>There are some techniques I wanna try that I f...</td>\n",
       "      <td>Andrew Huang</td>\n",
       "      <td>😮</td>\n",
       "      <td>None</td>\n",
       "      <td>None</td>\n",
       "    </tr>\n",
       "    <tr>\n",
       "      <th>1</th>\n",
       "      <td>Joyce Luong</td>\n",
       "      <td>1550344764151</td>\n",
       "      <td>tbh I wanna have another go at fishy stickers</td>\n",
       "      <td>None</td>\n",
       "      <td>None</td>\n",
       "      <td>None</td>\n",
       "      <td>None</td>\n",
       "    </tr>\n",
       "    <tr>\n",
       "      <th>2</th>\n",
       "      <td>Joyce Luong</td>\n",
       "      <td>1550344755800</td>\n",
       "      <td>:3 no worries</td>\n",
       "      <td>None</td>\n",
       "      <td>None</td>\n",
       "      <td>None</td>\n",
       "      <td>None</td>\n",
       "    </tr>\n",
       "    <tr>\n",
       "      <th>3</th>\n",
       "      <td>Andrew Huang</td>\n",
       "      <td>1550344742269</td>\n",
       "      <td>but I don't have an excuse to get a new laptop...</td>\n",
       "      <td>None</td>\n",
       "      <td>None</td>\n",
       "      <td>None</td>\n",
       "      <td>None</td>\n",
       "    </tr>\n",
       "    <tr>\n",
       "      <th>4</th>\n",
       "      <td>Andrew Huang</td>\n",
       "      <td>1550344724609</td>\n",
       "      <td>I can't wait to use those</td>\n",
       "      <td>Joyce Luong</td>\n",
       "      <td>😍</td>\n",
       "      <td>None</td>\n",
       "      <td>None</td>\n",
       "    </tr>\n",
       "  </tbody>\n",
       "</table>\n",
       "</div>"
      ],
      "text/plain": [
       "    sender_name   timestamp_ms  \\\n",
       "0   Joyce Luong  1550344792535   \n",
       "1   Joyce Luong  1550344764151   \n",
       "2   Joyce Luong  1550344755800   \n",
       "3  Andrew Huang  1550344742269   \n",
       "4  Andrew Huang  1550344724609   \n",
       "\n",
       "                                             content        actor1 reaction1  \\\n",
       "0  There are some techniques I wanna try that I f...  Andrew Huang         😮   \n",
       "1      tbh I wanna have another go at fishy stickers          None      None   \n",
       "2                                      :3 no worries          None      None   \n",
       "3  but I don't have an excuse to get a new laptop...          None      None   \n",
       "4                          I can't wait to use those   Joyce Luong         😍   \n",
       "\n",
       "  actor2 reaction2  \n",
       "0   None      None  \n",
       "1   None      None  \n",
       "2   None      None  \n",
       "3   None      None  \n",
       "4   None      None  "
      ]
     },
     "execution_count": 605,
     "metadata": {},
     "output_type": "execute_result"
    }
   ],
   "source": [
    "# only look at 'generic' messages\n",
    "data = raw_data[raw_data['type'] == 'Generic'].copy()\n",
    "\n",
    "print(\"NOTE: Lost these many non-generic rows: {} or {}%\". \\\n",
    "      format(len(raw_data) - len(data), round(100*(len(raw_data) - len(data))/len(raw_data), 3)))\n",
    "\n",
    "# slice out columns of interest\n",
    "data = data.loc[:, ['sender_name', 'timestamp_ms', 'content', 'actor1', 'reaction1', 'actor2', 'reaction2']]\n",
    "\n",
    "data.head()"
   ]
  },
  {
   "cell_type": "markdown",
   "metadata": {},
   "source": [
    "## Number of Messages Sent Per Person"
   ]
  },
  {
   "cell_type": "code",
   "execution_count": 606,
   "metadata": {},
   "outputs": [
    {
     "data": {
      "text/plain": [
       "Joyce Luong     19042\n",
       "Andrew Huang    15607\n",
       "Name: sender_name, dtype: int64"
      ]
     },
     "execution_count": 606,
     "metadata": {},
     "output_type": "execute_result"
    }
   ],
   "source": [
    "data['sender_name'].value_counts()"
   ]
  },
  {
   "cell_type": "code",
   "execution_count": 607,
   "metadata": {},
   "outputs": [],
   "source": [
    "data['timestamp_ms'] = pd.to_datetime(data['timestamp_ms'], unit='ms') \\\n",
    "                 .dt.tz_localize('UTC') \\\n",
    "                 .dt.tz_convert('America/Los_Angeles')\n",
    "                 \n",
    "data['timestamp'] = data['timestamp_ms'].dt.strftime('%a, %b %d, %Y @ %r')\n",
    "# data.head()"
   ]
  },
  {
   "cell_type": "code",
   "execution_count": 608,
   "metadata": {},
   "outputs": [],
   "source": [
    "data['month'] = data['timestamp_ms'].dt.month\n",
    "data['hour'] = data['timestamp_ms'].dt.hour\n",
    "data['year_month'] = data['timestamp_ms'].dt.strftime('%Y-%m')\n",
    "# data.head()"
   ]
  },
  {
   "cell_type": "code",
   "execution_count": 609,
   "metadata": {},
   "outputs": [
    {
     "data": {
      "image/png": "[encoded data removed]",
      "text/plain": [
       "<matplotlib.figure.Figure at 0x1a41ddde10>"
      ]
     },
     "metadata": {},
     "output_type": "display_data"
    }
   ],
   "source": [
    "ax = sns.countplot(data['timestamp_ms'].dt.year)\n",
    "ax.set_ylabel(\"Year\")\n",
    "ax.set_xlabel(\"Number of Messages\")\n",
    "ax.set_title(\"Number of Messages By Year\");"
   ]
  },
  {
   "cell_type": "code",
   "execution_count": 610,
   "metadata": {},
   "outputs": [
    {
     "data": {
      "image/png": "[encoded data removed]",
      "text/plain": [
       "<matplotlib.figure.Figure at 0x1a41de0160>"
      ]
     },
     "metadata": {},
     "output_type": "display_data"
    }
   ],
   "source": [
    "ax = sns.countplot(data['timestamp_ms'].dt.month)\n",
    "ax.set_xlabel(\"Month\")\n",
    "ax.set_ylabel(\"Number of Messages\")\n",
    "ax.set_title(\"Number of Messages By Month\");"
   ]
  },
  {
   "cell_type": "code",
   "execution_count": 611,
   "metadata": {},
   "outputs": [
    {
     "data": {
      "image/png": "[encoded data removed]",
      "text/plain": [
       "<matplotlib.figure.Figure at 0x1a41dada58>"
      ]
     },
     "metadata": {},
     "output_type": "display_data"
    }
   ],
   "source": [
    "\n",
    "data['hour'] = data['timestamp_ms'].dt.hour\n",
    "ax = sns.countplot(x='hour',hue='sender_name',data=data)\n",
    "ax.set_title(\"Number of Messages By Hour\");"
   ]
  },
  {
   "cell_type": "code",
   "execution_count": 612,
   "metadata": {},
   "outputs": [
    {
     "data": {
      "image/png": "[encoded data removed]",
      "text/plain": [
       "<matplotlib.figure.Figure at 0x1a40e2bb00>"
      ]
     },
     "metadata": {},
     "output_type": "display_data"
    }
   ],
   "source": [
    "year_month = sorted(data['year_month'].unique()) # order to display the x-axis\n",
    "ax = sns.countplot(x='year_month', hue='sender_name', data=data, order=year_month)\n",
    "ax.set_title(\"Number of Messages By Month\");"
   ]
  },
  {
   "cell_type": "code",
   "execution_count": 613,
   "metadata": {},
   "outputs": [],
   "source": [
    "count_chars = lambda row: sum([len(message) for message in row])\n",
    "\n",
    "reduced = data.loc[:, ['month', 'sender_name', 'content']]\n",
    "char_len = reduced.groupby([reduced['month'], reduced['sender_name']]).agg(count_chars)\n",
    "\n",
    "char_len.reset_index(inplace=True)"
   ]
  },
  {
   "cell_type": "code",
   "execution_count": 614,
   "metadata": {},
   "outputs": [
    {
     "data": {
      "image/png": "[encoded data removed]",
      "text/plain": [
       "<matplotlib.figure.Figure at 0x1a41d808d0>"
      ]
     },
     "metadata": {},
     "output_type": "display_data"
    }
   ],
   "source": [
    "ax = sns.barplot(x='month', y='content', hue='sender_name', data=char_len)\n",
    "ax.set_title(\"Character Count by Month\");\n",
    "ax.set_ylabel(\"Characters\")\n",
    "ax.set_xlabel(\"Month\");"
   ]
  },
  {
   "cell_type": "code",
   "execution_count": 615,
   "metadata": {},
   "outputs": [
    {
     "data": {
      "text/html": [
       "<div>\n",
       "<style scoped>\n",
       "    .dataframe tbody tr th:only-of-type {\n",
       "        vertical-align: middle;\n",
       "    }\n",
       "\n",
       "    .dataframe tbody tr th {\n",
       "        vertical-align: top;\n",
       "    }\n",
       "\n",
       "    .dataframe thead th {\n",
       "        text-align: right;\n",
       "    }\n",
       "</style>\n",
       "<table border=\"1\" class=\"dataframe\">\n",
       "  <thead>\n",
       "    <tr style=\"text-align: right;\">\n",
       "      <th></th>\n",
       "      <th>sender_name</th>\n",
       "      <th>timestamp_ms</th>\n",
       "      <th>content</th>\n",
       "      <th>actor1</th>\n",
       "      <th>reaction1</th>\n",
       "      <th>actor2</th>\n",
       "      <th>reaction2</th>\n",
       "      <th>timestamp</th>\n",
       "      <th>month</th>\n",
       "      <th>hour</th>\n",
       "      <th>year_month</th>\n",
       "    </tr>\n",
       "  </thead>\n",
       "  <tbody>\n",
       "    <tr>\n",
       "      <th>0</th>\n",
       "      <td>Joyce Luong</td>\n",
       "      <td>2019-02-16 11:19:52.535000-08:00</td>\n",
       "      <td>There are some techniques I wanna try that I f...</td>\n",
       "      <td>Andrew Huang</td>\n",
       "      <td>😮</td>\n",
       "      <td>None</td>\n",
       "      <td>None</td>\n",
       "      <td>Sat, Feb 16, 2019 @ 11:19:52 AM</td>\n",
       "      <td>2</td>\n",
       "      <td>11</td>\n",
       "      <td>2019-02</td>\n",
       "    </tr>\n",
       "    <tr>\n",
       "      <th>1</th>\n",
       "      <td>Joyce Luong</td>\n",
       "      <td>2019-02-16 11:19:24.151000-08:00</td>\n",
       "      <td>tbh I wanna have another go at fishy stickers</td>\n",
       "      <td>None</td>\n",
       "      <td>None</td>\n",
       "      <td>None</td>\n",
       "      <td>None</td>\n",
       "      <td>Sat, Feb 16, 2019 @ 11:19:24 AM</td>\n",
       "      <td>2</td>\n",
       "      <td>11</td>\n",
       "      <td>2019-02</td>\n",
       "    </tr>\n",
       "    <tr>\n",
       "      <th>2</th>\n",
       "      <td>Joyce Luong</td>\n",
       "      <td>2019-02-16 11:19:15.800000-08:00</td>\n",
       "      <td>:3 no worries</td>\n",
       "      <td>None</td>\n",
       "      <td>None</td>\n",
       "      <td>None</td>\n",
       "      <td>None</td>\n",
       "      <td>Sat, Feb 16, 2019 @ 11:19:15 AM</td>\n",
       "      <td>2</td>\n",
       "      <td>11</td>\n",
       "      <td>2019-02</td>\n",
       "    </tr>\n",
       "    <tr>\n",
       "      <th>3</th>\n",
       "      <td>Andrew Huang</td>\n",
       "      <td>2019-02-16 11:19:02.269000-08:00</td>\n",
       "      <td>but I don't have an excuse to get a new laptop...</td>\n",
       "      <td>None</td>\n",
       "      <td>None</td>\n",
       "      <td>None</td>\n",
       "      <td>None</td>\n",
       "      <td>Sat, Feb 16, 2019 @ 11:19:02 AM</td>\n",
       "      <td>2</td>\n",
       "      <td>11</td>\n",
       "      <td>2019-02</td>\n",
       "    </tr>\n",
       "    <tr>\n",
       "      <th>4</th>\n",
       "      <td>Andrew Huang</td>\n",
       "      <td>2019-02-16 11:18:44.609000-08:00</td>\n",
       "      <td>I can't wait to use those</td>\n",
       "      <td>Joyce Luong</td>\n",
       "      <td>😍</td>\n",
       "      <td>None</td>\n",
       "      <td>None</td>\n",
       "      <td>Sat, Feb 16, 2019 @ 11:18:44 AM</td>\n",
       "      <td>2</td>\n",
       "      <td>11</td>\n",
       "      <td>2019-02</td>\n",
       "    </tr>\n",
       "  </tbody>\n",
       "</table>\n",
       "</div>"
      ],
      "text/plain": [
       "    sender_name                     timestamp_ms  \\\n",
       "0   Joyce Luong 2019-02-16 11:19:52.535000-08:00   \n",
       "1   Joyce Luong 2019-02-16 11:19:24.151000-08:00   \n",
       "2   Joyce Luong 2019-02-16 11:19:15.800000-08:00   \n",
       "3  Andrew Huang 2019-02-16 11:19:02.269000-08:00   \n",
       "4  Andrew Huang 2019-02-16 11:18:44.609000-08:00   \n",
       "\n",
       "                                             content        actor1 reaction1  \\\n",
       "0  There are some techniques I wanna try that I f...  Andrew Huang         😮   \n",
       "1      tbh I wanna have another go at fishy stickers          None      None   \n",
       "2                                      :3 no worries          None      None   \n",
       "3  but I don't have an excuse to get a new laptop...          None      None   \n",
       "4                          I can't wait to use those   Joyce Luong         😍   \n",
       "\n",
       "  actor2 reaction2                        timestamp  month  hour year_month  \n",
       "0   None      None  Sat, Feb 16, 2019 @ 11:19:52 AM      2    11    2019-02  \n",
       "1   None      None  Sat, Feb 16, 2019 @ 11:19:24 AM      2    11    2019-02  \n",
       "2   None      None  Sat, Feb 16, 2019 @ 11:19:15 AM      2    11    2019-02  \n",
       "3   None      None  Sat, Feb 16, 2019 @ 11:19:02 AM      2    11    2019-02  \n",
       "4   None      None  Sat, Feb 16, 2019 @ 11:18:44 AM      2    11    2019-02  "
      ]
     },
     "execution_count": 615,
     "metadata": {},
     "output_type": "execute_result"
    }
   ],
   "source": [
    "data.head()"
   ]
  },
  {
   "cell_type": "code",
   "execution_count": 616,
   "metadata": {},
   "outputs": [],
   "source": [
    "data.to_json('correctoutput.json')"
   ]
  },
  {
   "cell_type": "code",
   "execution_count": null,
   "metadata": {},
   "outputs": [],
   "source": []
  }
 ],
 "metadata": {
  "kernelspec": {
   "display_name": "Python 3",
   "language": "python",
   "name": "python3"
  },
  "language_info": {
   "codemirror_mode": {
    "name": "ipython",
    "version": 3
   },
   "file_extension": ".py",
   "mimetype": "text/x-python",
   "name": "python",
   "nbconvert_exporter": "python",
   "pygments_lexer": "ipython3",
   "version": "3.6.4"
  }
 },
 "nbformat": 4,
 "nbformat_minor": 2
}
