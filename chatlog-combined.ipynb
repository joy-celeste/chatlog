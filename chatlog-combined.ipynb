{
 "cells": [
  {
   "cell_type": "code",
   "execution_count": 8,
   "metadata": {},
   "outputs": [],
   "source": [
    "import pandas as pd\n",
    "import numpy as np\n",
    "import zipfile\n",
    "import matplotlib\n",
    "import matplotlib.pyplot as plt\n",
    "import seaborn as sns\n",
    "import datetime\n",
    "\n",
    "\n",
    "%matplotlib inline\n",
    "plt.rcParams['figure.figsize'] = (12, 9)"
   ]
  },
  {
   "cell_type": "markdown",
   "metadata": {},
   "source": [
    "# Importing Data From JSON"
   ]
  },
  {
   "cell_type": "code",
   "execution_count": 9,
   "metadata": {},
   "outputs": [
    {
     "data": {
      "text/plain": [
       "Index(['audio_files', 'call_duration', 'content', 'files', 'gifs', 'missed',\n",
       "       'payment_info.amount', 'payment_info.completedTime',\n",
       "       'payment_info.creationTime', 'payment_info.currency',\n",
       "       'payment_info.receiverName', 'payment_info.senderName', 'photos',\n",
       "       'plan.timestamp', 'plan.title', 'reactions', 'sender_name',\n",
       "       'share.link', 'share.share_text', 'sticker.uri', 'timestamp_ms', 'type',\n",
       "       'videos'],\n",
       "      dtype='object')"
      ]
     },
     "execution_count": 9,
     "metadata": {},
     "output_type": "execute_result"
    }
   ],
   "source": [
    "import json\n",
    "from pandas.io.json import json_normalize\n",
    "\n",
    "# raw_data = pd.read_json(\"json/data.json\", orient=\"records\") ; works but fewer columns\n",
    "\n",
    "# Normalizing columns lets us get info from sub-arrays like 'share.link' and 'share.share_text'\n",
    "with open('res/json/feb-16-2019.json') as data_file:    \n",
    "    raw_data = json_normalize(json.load(data_file))\n",
    "\n",
    "raw_data.columns"
   ]
  },
  {
   "cell_type": "code",
   "execution_count": 10,
   "metadata": {},
   "outputs": [
    {
     "data": {
      "text/plain": [
       "Joyce Luong     19185\n",
       "Andrew Huang    15920\n",
       "Name: sender_name, dtype: int64"
      ]
     },
     "execution_count": 10,
     "metadata": {},
     "output_type": "execute_result"
    }
   ],
   "source": [
    "raw_data['sender_name'].value_counts()"
   ]
  },
  {
   "cell_type": "code",
   "execution_count": 11,
   "metadata": {},
   "outputs": [
    {
     "data": {
      "text/html": [
       "<div>\n",
       "<style scoped>\n",
       "    .dataframe tbody tr th:only-of-type {\n",
       "        vertical-align: middle;\n",
       "    }\n",
       "\n",
       "    .dataframe tbody tr th {\n",
       "        vertical-align: top;\n",
       "    }\n",
       "\n",
       "    .dataframe thead th {\n",
       "        text-align: right;\n",
       "    }\n",
       "</style>\n",
       "<table border=\"1\" class=\"dataframe\">\n",
       "  <thead>\n",
       "    <tr style=\"text-align: right;\">\n",
       "      <th></th>\n",
       "      <th>audio_files</th>\n",
       "      <th>call_duration</th>\n",
       "      <th>content</th>\n",
       "      <th>files</th>\n",
       "      <th>gifs</th>\n",
       "      <th>missed</th>\n",
       "      <th>payment_info.amount</th>\n",
       "      <th>payment_info.completedTime</th>\n",
       "      <th>payment_info.creationTime</th>\n",
       "      <th>payment_info.currency</th>\n",
       "      <th>...</th>\n",
       "      <th>share.link</th>\n",
       "      <th>share.share_text</th>\n",
       "      <th>sticker.uri</th>\n",
       "      <th>timestamp_ms</th>\n",
       "      <th>type</th>\n",
       "      <th>videos</th>\n",
       "      <th>actor1</th>\n",
       "      <th>reaction1</th>\n",
       "      <th>actor2</th>\n",
       "      <th>reaction2</th>\n",
       "    </tr>\n",
       "  </thead>\n",
       "  <tbody>\n",
       "    <tr>\n",
       "      <th>0</th>\n",
       "      <td>NaN</td>\n",
       "      <td>NaN</td>\n",
       "      <td>There are some techniques I wanna try that I f...</td>\n",
       "      <td>NaN</td>\n",
       "      <td>NaN</td>\n",
       "      <td>NaN</td>\n",
       "      <td>NaN</td>\n",
       "      <td>NaN</td>\n",
       "      <td>NaN</td>\n",
       "      <td>NaN</td>\n",
       "      <td>...</td>\n",
       "      <td>NaN</td>\n",
       "      <td>NaN</td>\n",
       "      <td>NaN</td>\n",
       "      <td>1550344792535</td>\n",
       "      <td>Generic</td>\n",
       "      <td>NaN</td>\n",
       "      <td>Andrew Huang</td>\n",
       "      <td>😮</td>\n",
       "      <td>None</td>\n",
       "      <td>None</td>\n",
       "    </tr>\n",
       "    <tr>\n",
       "      <th>1</th>\n",
       "      <td>NaN</td>\n",
       "      <td>NaN</td>\n",
       "      <td>tbh I wanna have another go at fishy stickers</td>\n",
       "      <td>NaN</td>\n",
       "      <td>NaN</td>\n",
       "      <td>NaN</td>\n",
       "      <td>NaN</td>\n",
       "      <td>NaN</td>\n",
       "      <td>NaN</td>\n",
       "      <td>NaN</td>\n",
       "      <td>...</td>\n",
       "      <td>NaN</td>\n",
       "      <td>NaN</td>\n",
       "      <td>NaN</td>\n",
       "      <td>1550344764151</td>\n",
       "      <td>Generic</td>\n",
       "      <td>NaN</td>\n",
       "      <td>None</td>\n",
       "      <td>None</td>\n",
       "      <td>None</td>\n",
       "      <td>None</td>\n",
       "    </tr>\n",
       "    <tr>\n",
       "      <th>2</th>\n",
       "      <td>NaN</td>\n",
       "      <td>NaN</td>\n",
       "      <td>:3 no worries</td>\n",
       "      <td>NaN</td>\n",
       "      <td>NaN</td>\n",
       "      <td>NaN</td>\n",
       "      <td>NaN</td>\n",
       "      <td>NaN</td>\n",
       "      <td>NaN</td>\n",
       "      <td>NaN</td>\n",
       "      <td>...</td>\n",
       "      <td>NaN</td>\n",
       "      <td>NaN</td>\n",
       "      <td>NaN</td>\n",
       "      <td>1550344755800</td>\n",
       "      <td>Generic</td>\n",
       "      <td>NaN</td>\n",
       "      <td>None</td>\n",
       "      <td>None</td>\n",
       "      <td>None</td>\n",
       "      <td>None</td>\n",
       "    </tr>\n",
       "  </tbody>\n",
       "</table>\n",
       "<p>3 rows × 27 columns</p>\n",
       "</div>"
      ],
      "text/plain": [
       "  audio_files  call_duration  \\\n",
       "0         NaN            NaN   \n",
       "1         NaN            NaN   \n",
       "2         NaN            NaN   \n",
       "\n",
       "                                             content files gifs missed  \\\n",
       "0  There are some techniques I wanna try that I f...   NaN  NaN    NaN   \n",
       "1      tbh I wanna have another go at fishy stickers   NaN  NaN    NaN   \n",
       "2                                      :3 no worries   NaN  NaN    NaN   \n",
       "\n",
       "   payment_info.amount  payment_info.completedTime  payment_info.creationTime  \\\n",
       "0                  NaN                         NaN                        NaN   \n",
       "1                  NaN                         NaN                        NaN   \n",
       "2                  NaN                         NaN                        NaN   \n",
       "\n",
       "  payment_info.currency    ...    share.link share.share_text sticker.uri  \\\n",
       "0                   NaN    ...           NaN              NaN         NaN   \n",
       "1                   NaN    ...           NaN              NaN         NaN   \n",
       "2                   NaN    ...           NaN              NaN         NaN   \n",
       "\n",
       "    timestamp_ms     type videos        actor1 reaction1 actor2 reaction2  \n",
       "0  1550344792535  Generic    NaN  Andrew Huang         😮   None      None  \n",
       "1  1550344764151  Generic    NaN          None      None   None      None  \n",
       "2  1550344755800  Generic    NaN          None      None   None      None  \n",
       "\n",
       "[3 rows x 27 columns]"
      ]
     },
     "execution_count": 11,
     "metadata": {},
     "output_type": "execute_result"
    }
   ],
   "source": [
    "def decode_emoji(emoji):\n",
    "    # UTF8 emojis were incorrectly exported as Latin-1.\n",
    "    return emoji.encode('latin1').decode('utf8')\n",
    "\n",
    "def parse_reactions(r): \n",
    "    \"\"\" Parses and returns the reactions for a conversation between exactly two people.\n",
    "    \n",
    "    INPUT:  [{'reaction': 'ð\\x9f\\x91\\x8e', 'actor': 'Name1'},\n",
    "            {'reaction': 'ð\\x9f\\x98¢', 'actor': 'Name2'}]\n",
    "            \n",
    "    OUTPUT: \"Name1\", 😮, \"Name2\", 😍\n",
    "    \"\"\"\n",
    "    \n",
    "    if type(r) != list:\n",
    "        return None, None, None, None\n",
    "    \n",
    "    elif len(r) == 1:\n",
    "        return r[0]['actor'], decode_emoji(r[0]['reaction']), None, None\n",
    "    \n",
    "    else:\n",
    "        return r[0]['actor'], decode_emoji(r[0]['reaction']), r[1]['actor'], decode_emoji(r[1]['reaction'])\n",
    "    \n",
    "# parse reaction data\n",
    "raw_data['actor1'], raw_data['reaction1'], raw_data['actor2'], raw_data['reaction2'] = \\\n",
    "    zip(*raw_data['reactions'].map(parse_reactions))\n",
    "raw_data.head(3)"
   ]
  },
  {
   "cell_type": "markdown",
   "metadata": {},
   "source": [
    "# Importing Data from Cleaned HTML"
   ]
  },
  {
   "cell_type": "code",
   "execution_count": 14,
   "metadata": {},
   "outputs": [
    {
     "data": {
      "text/plain": [
       "Index(['sender_name', 'timestamp', 'content', 'actor1', 'reaction1', 'actor2',\n",
       "       'reaction2'],\n",
       "      dtype='object')"
      ]
     },
     "execution_count": 14,
     "metadata": {},
     "output_type": "execute_result"
    }
   ],
   "source": [
    "from_html = pd.read_csv('res/html/dec-15-to-sep-18.csv')\n",
    "from_html.columns"
   ]
  },
  {
   "cell_type": "code",
   "execution_count": 15,
   "metadata": {
    "scrolled": true
   },
   "outputs": [
    {
     "data": {
      "text/plain": [
       "Joyce Luong     62943\n",
       "Andrew Huang    51671\n",
       "Name: sender_name, dtype: int64"
      ]
     },
     "execution_count": 15,
     "metadata": {},
     "output_type": "execute_result"
    }
   ],
   "source": [
    "from_html['sender_name'].value_counts()"
   ]
  },
  {
   "cell_type": "code",
   "execution_count": 16,
   "metadata": {},
   "outputs": [
    {
     "data": {
      "text/html": [
       "<div>\n",
       "<style scoped>\n",
       "    .dataframe tbody tr th:only-of-type {\n",
       "        vertical-align: middle;\n",
       "    }\n",
       "\n",
       "    .dataframe tbody tr th {\n",
       "        vertical-align: top;\n",
       "    }\n",
       "\n",
       "    .dataframe thead th {\n",
       "        text-align: right;\n",
       "    }\n",
       "</style>\n",
       "<table border=\"1\" class=\"dataframe\">\n",
       "  <thead>\n",
       "    <tr style=\"text-align: right;\">\n",
       "      <th></th>\n",
       "      <th>sender_name</th>\n",
       "      <th>timestamp</th>\n",
       "      <th>content</th>\n",
       "      <th>actor1</th>\n",
       "      <th>reaction1</th>\n",
       "      <th>actor2</th>\n",
       "      <th>reaction2</th>\n",
       "    </tr>\n",
       "  </thead>\n",
       "  <tbody>\n",
       "    <tr>\n",
       "      <th>0</th>\n",
       "      <td>Andrew Huang</td>\n",
       "      <td>2018-09-19 18:01:00</td>\n",
       "      <td>Ok I guess I can download it on mine lol</td>\n",
       "      <td>Joyce Luong</td>\n",
       "      <td>😍</td>\n",
       "      <td>NaN</td>\n",
       "      <td>NaN</td>\n",
       "    </tr>\n",
       "    <tr>\n",
       "      <th>1</th>\n",
       "      <td>Joyce Luong</td>\n",
       "      <td>2018-09-19 18:00:00</td>\n",
       "      <td>It’s empty</td>\n",
       "      <td>NaN</td>\n",
       "      <td>NaN</td>\n",
       "      <td>NaN</td>\n",
       "      <td>NaN</td>\n",
       "    </tr>\n",
       "    <tr>\n",
       "      <th>2</th>\n",
       "      <td>Joyce Luong</td>\n",
       "      <td>2018-09-19 18:00:00</td>\n",
       "      <td>It won’t pull</td>\n",
       "      <td>NaN</td>\n",
       "      <td>NaN</td>\n",
       "      <td>NaN</td>\n",
       "      <td>NaN</td>\n",
       "    </tr>\n",
       "  </tbody>\n",
       "</table>\n",
       "</div>"
      ],
      "text/plain": [
       "    sender_name            timestamp  \\\n",
       "0  Andrew Huang  2018-09-19 18:01:00   \n",
       "1   Joyce Luong  2018-09-19 18:00:00   \n",
       "2   Joyce Luong  2018-09-19 18:00:00   \n",
       "\n",
       "                                    content       actor1 reaction1 actor2  \\\n",
       "0  Ok I guess I can download it on mine lol  Joyce Luong         😍    NaN   \n",
       "1                                It’s empty          NaN       NaN    NaN   \n",
       "2                             It won’t pull          NaN       NaN    NaN   \n",
       "\n",
       "  reaction2  \n",
       "0       NaN  \n",
       "1       NaN  \n",
       "2       NaN  "
      ]
     },
     "execution_count": 16,
     "metadata": {},
     "output_type": "execute_result"
    }
   ],
   "source": [
    "from_html.head(3)"
   ]
  },
  {
   "cell_type": "markdown",
   "metadata": {},
   "source": [
    "# Combining Datasets"
   ]
  },
  {
   "cell_type": "code",
   "execution_count": 17,
   "metadata": {},
   "outputs": [
    {
     "data": {
      "text/plain": [
       "Index(['sender_name', 'timestamp', 'content', 'actor1', 'reaction1', 'actor2',\n",
       "       'reaction2', 'audio_files', 'call_duration', 'files', 'gifs', 'missed',\n",
       "       'payment_info.amount', 'payment_info.completedTime',\n",
       "       'payment_info.creationTime', 'payment_info.currency',\n",
       "       'payment_info.receiverName', 'payment_info.senderName', 'photos',\n",
       "       'plan.timestamp', 'plan.title', 'reactions', 'share.link',\n",
       "       'share.share_text', 'sticker.uri', 'timestamp_ms', 'type', 'videos'],\n",
       "      dtype='object')"
      ]
     },
     "execution_count": 17,
     "metadata": {},
     "output_type": "execute_result"
    }
   ],
   "source": [
    "data = pd.concat([from_html, raw_data], sort=False)\n",
    "data.reindex()\n",
    "data.columns"
   ]
  },
  {
   "cell_type": "code",
   "execution_count": 18,
   "metadata": {},
   "outputs": [
    {
     "data": {
      "text/plain": [
       "Joyce Luong     82128\n",
       "Andrew Huang    67591\n",
       "Name: sender_name, dtype: int64"
      ]
     },
     "execution_count": 18,
     "metadata": {},
     "output_type": "execute_result"
    }
   ],
   "source": [
    "data['sender_name'].value_counts()"
   ]
  },
  {
   "cell_type": "markdown",
   "metadata": {},
   "source": [
    "## Creating Date Column"
   ]
  },
  {
   "cell_type": "code",
   "execution_count": 19,
   "metadata": {},
   "outputs": [],
   "source": [
    "data['timestamp_ms'] = pd.to_datetime(data['timestamp_ms'], unit='ms') \\\n",
    "                 .dt.tz_localize('UTC') \\\n",
    "                 .dt.tz_convert('America/Los_Angeles')\n",
    "        \n",
    "data['timestamp_ms'] = data['timestamp_ms'].dt.strftime('%a, %b %d, %Y @ %r')"
   ]
  },
  {
   "cell_type": "code",
   "execution_count": 20,
   "metadata": {},
   "outputs": [],
   "source": [
    "data['timestamp'] = pd.to_datetime(data['timestamp'])\n",
    "data['timestamp'] = data['timestamp'].dt.strftime('%a, %b %d, %Y @ %r')"
   ]
  },
  {
   "cell_type": "code",
   "execution_count": 21,
   "metadata": {},
   "outputs": [],
   "source": [
    "from dateutil import parser\n",
    "temp = data['timestamp_ms'] + data['timestamp']\n",
    "\n",
    "def ugh(s):\n",
    "    if s[:3] == 'NaT':\n",
    "        return pd.to_datetime(s[3:], format='%a, %b %d, %Y @ %I:%M:%S %p')\n",
    "    else:\n",
    "        return pd.to_datetime(s[:-3], format='%a, %b %d, %Y @ %I:%M:%S %p')\n",
    "    \n",
    "rip = temp.apply(ugh)"
   ]
  },
  {
   "cell_type": "code",
   "execution_count": null,
   "metadata": {},
   "outputs": [],
   "source": [
    "data['date'] = rip\n",
    "data.reset_index(inplace=True)"
   ]
  },
  {
   "cell_type": "code",
   "execution_count": null,
   "metadata": {},
   "outputs": [],
   "source": [
    "print('kill me')"
   ]
  },
  {
   "cell_type": "markdown",
   "metadata": {},
   "source": [
    "# Initial Impressions"
   ]
  },
  {
   "cell_type": "code",
   "execution_count": null,
   "metadata": {},
   "outputs": [],
   "source": [
    "# # only look at 'generic' messages\n",
    "# data = combined[combined['type'] == 'Generic'].copy()\n",
    "\n",
    "# print(\"NOTE: Lost these many non-generic rows: {} or {}%\". \\\n",
    "#       format(len(raw_data) - len(data), round(100*(len(raw_data) - len(data))/len(raw_data), 3)))\n",
    "\n",
    "# slice out columns of interest\n",
    "data = data.loc[:, ['sender_name', 'date', 'content', 'actor1', 'reaction1', 'actor2', 'reaction2']]\n",
    "data = data.sort_values('date', ascending=False)\n",
    "\n",
    "data.head(5)"
   ]
  },
  {
   "cell_type": "markdown",
   "metadata": {},
   "source": [
    "## Number of Messages Sent Per Person"
   ]
  },
  {
   "cell_type": "code",
   "execution_count": null,
   "metadata": {},
   "outputs": [],
   "source": [
    "data['sender_name'].value_counts()"
   ]
  },
  {
   "cell_type": "code",
   "execution_count": null,
   "metadata": {},
   "outputs": [],
   "source": [
    "data['month'] = data['date'].dt.month\n",
    "data['hour'] = data['date'].dt.hour\n",
    "data['year_month'] = data['date'].dt.strftime('%Y-%m')\n",
    "data.head()"
   ]
  },
  {
   "cell_type": "markdown",
   "metadata": {},
   "source": [
    "## Removing December 30, 2018 Fight"
   ]
  },
  {
   "cell_type": "code",
   "execution_count": null,
   "metadata": {},
   "outputs": [],
   "source": [
    "# data = data[~((data['date'].dt.year == 2018) & (data['date'].dt.month == 12) & (data['date'].dt.day == 30))]\n",
    "# data['sender_name'].value_counts()"
   ]
  },
  {
   "cell_type": "code",
   "execution_count": null,
   "metadata": {},
   "outputs": [],
   "source": [
    "ax = sns.countplot(data['date'].dt.year)\n",
    "ax.set_ylabel(\"Year\")\n",
    "ax.set_xlabel(\"Number of Messages\")\n",
    "ax.set_title(\"Number of Messages By Year\");"
   ]
  },
  {
   "cell_type": "code",
   "execution_count": null,
   "metadata": {},
   "outputs": [],
   "source": [
    "ax = sns.countplot(data['date'].dt.month)\n",
    "ax.set_xlabel(\"Month\")\n",
    "ax.set_ylabel(\"Number of Messages\")\n",
    "ax.set_title(\"Number of Messages By Month\");"
   ]
  },
  {
   "cell_type": "code",
   "execution_count": null,
   "metadata": {},
   "outputs": [],
   "source": [
    "data['hour'] = data['date'].dt.hour\n",
    "ax.set_xticklabels(ax.get_xticklabels(), rotation=90)\n",
    "ax = sns.countplot(x='hour',hue='sender_name',data=data)\n",
    "ax.set_title(\"Number of Messages By Hour\");"
   ]
  },
  {
   "cell_type": "code",
   "execution_count": null,
   "metadata": {},
   "outputs": [],
   "source": [
    "year_month = sorted(data['year_month'].unique()) # order to display the x-axis\n",
    "ax = sns.countplot(x='year_month', hue='sender_name', data=data, order=year_month)\n",
    "ax.set_xticklabels(ax.get_xticklabels(), rotation=90)\n",
    "ax.set_title(\"Number of Messages By Month\");"
   ]
  },
  {
   "cell_type": "code",
   "execution_count": null,
   "metadata": {},
   "outputs": [],
   "source": [
    "count_chars = lambda row: sum([len(str(i)) for i in row])\n",
    "reduced = data.loc[:, ['year_month', 'sender_name', 'content']]\n",
    "\n",
    "char_len = reduced.groupby([reduced['year_month'], reduced['sender_name']]).agg(count_chars)\n",
    "char_len.reset_index(inplace=True)"
   ]
  },
  {
   "cell_type": "code",
   "execution_count": null,
   "metadata": {},
   "outputs": [],
   "source": [
    "ax = sns.barplot(x='year_month', y='content', hue='sender_name', data=char_len)\n",
    "ax.set_xticklabels(ax.get_xticklabels(), rotation=90)\n",
    "ax.set_title(\"Character Count by Month\");\n",
    "ax.set_ylabel(\"Characters\")\n",
    "ax.set_xlabel(\"Month\");"
   ]
  },
  {
   "cell_type": "code",
   "execution_count": null,
   "metadata": {},
   "outputs": [],
   "source": [
    "love = data[data['content'].str.contains('love', na=False)]\n",
    "love = love.loc[:, ['content']]\n",
    "\n",
    "count = lambda row: sum([len(str(i)) for i in row])\n",
    "love = love.groupby([reduced['year_month'], reduced['sender_name']]).count()\n",
    "love.reset_index(inplace=True)\n",
    "\n",
    "ax = sns.barplot(x='year_month', y='content', hue='sender_name', data=love)\n",
    "ax.set_xticklabels(ax.get_xticklabels(), rotation=90)\n",
    "ax.set_title(\"How Many Times 'Love' Was Used\");\n",
    "ax.set_ylabel(\"Usage\")\n",
    "ax.set_xlabel(\"Month\");"
   ]
  },
  {
   "cell_type": "code",
   "execution_count": null,
   "metadata": {},
   "outputs": [],
   "source": [
    "sex = data[data['content'].str.contains('sex', na=False)]\n",
    "sex = sex.loc[:, ['content']]\n",
    "\n",
    "count = lambda row: sum([len(str(i)) for i in row])\n",
    "sex = sex.groupby([reduced['year_month'], reduced['sender_name']]).count()\n",
    "sex.reset_index(inplace=True)\n",
    "\n",
    "ax = sns.barplot(x='year_month', y='content', hue='sender_name', data=sex)\n",
    "ax.set_xticklabels(ax.get_xticklabels(), rotation=90)\n",
    "ax.set_title(\"How Many Times 'Sex' Was Used\");\n",
    "ax.set_ylabel(\"Usage\")\n",
    "ax.set_xlabel(\"Month\");"
   ]
  },
  {
   "cell_type": "code",
   "execution_count": null,
   "metadata": {},
   "outputs": [],
   "source": [
    "data.head()"
   ]
  },
  {
   "cell_type": "code",
   "execution_count": null,
   "metadata": {},
   "outputs": [],
   "source": [
    "# To save everything to .json\n",
    "# data.to_json('output/feb-17-2019.json')"
   ]
  },
  {
   "cell_type": "code",
   "execution_count": null,
   "metadata": {},
   "outputs": [],
   "source": []
  }
 ],
 "metadata": {
  "kernelspec": {
   "display_name": "Python 3",
   "language": "python",
   "name": "python3"
  },
  "language_info": {
   "codemirror_mode": {
    "name": "ipython",
    "version": 3
   },
   "file_extension": ".py",
   "mimetype": "text/x-python",
   "name": "python",
   "nbconvert_exporter": "python",
   "pygments_lexer": "ipython3",
   "version": "3.6.4"
  }
 },
 "nbformat": 4,
 "nbformat_minor": 2
}
