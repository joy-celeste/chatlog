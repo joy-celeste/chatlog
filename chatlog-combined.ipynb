{
 "cells": [
  {
   "cell_type": "code",
   "execution_count": 8,
   "metadata": {},
   "outputs": [],
   "source": [
    "import pandas as pd\n",
    "import numpy as np\n",
    "import zipfile\n",
    "import matplotlib\n",
    "import matplotlib.pyplot as plt\n",
    "import seaborn as sns\n",
    "import datetime\n",
    "\n",
    "\n",
    "%matplotlib inline\n",
    "plt.rcParams['figure.figsize'] = (12, 9)"
   ]
  },
  {
   "cell_type": "markdown",
   "metadata": {},
   "source": [
    "# Importing Data From JSON"
   ]
  },
  {
   "cell_type": "code",
   "execution_count": 9,
   "metadata": {},
   "outputs": [
    {
     "data": {
      "text/plain": [
       "Index(['audio_files', 'call_duration', 'content', 'files', 'gifs', 'missed',\n",
       "       'payment_info.amount', 'payment_info.completedTime',\n",
       "       'payment_info.creationTime', 'payment_info.currency',\n",
       "       'payment_info.receiverName', 'payment_info.senderName', 'photos',\n",
       "       'plan.timestamp', 'plan.title', 'reactions', 'sender_name',\n",
       "       'share.link', 'share.share_text', 'sticker.uri', 'timestamp_ms', 'type',\n",
       "       'videos'],\n",
       "      dtype='object')"
      ]
     },
     "execution_count": 9,
     "metadata": {},
     "output_type": "execute_result"
    }
   ],
   "source": [
    "import json\n",
    "from pandas.io.json import json_normalize\n",
    "\n",
    "# raw_data = pd.read_json(\"json/data.json\", orient=\"records\") ; works but fewer columns\n",
    "\n",
    "# Normalizing columns lets us get info from sub-arrays like 'share.link' and 'share.share_text'\n",
    "with open('res/json/feb-16-2019.json') as data_file:    \n",
    "    raw_data = json_normalize(json.load(data_file))\n",
    "\n",
    "raw_data.columns"
   ]
  },
  {
   "cell_type": "code",
   "execution_count": 10,
   "metadata": {},
   "outputs": [
    {
     "data": {
      "text/plain": [
       "Joyce Luong     19185\n",
       "Andrew Huang    15920\n",
       "Name: sender_name, dtype: int64"
      ]
     },
     "execution_count": 10,
     "metadata": {},
     "output_type": "execute_result"
    }
   ],
   "source": [
    "raw_data['sender_name'].value_counts()"
   ]
  },
  {
   "cell_type": "code",
   "execution_count": 11,
   "metadata": {},
   "outputs": [
    {
     "data": {
      "text/html": [
       "<div>\n",
       "<style scoped>\n",
       "    .dataframe tbody tr th:only-of-type {\n",
       "        vertical-align: middle;\n",
       "    }\n",
       "\n",
       "    .dataframe tbody tr th {\n",
       "        vertical-align: top;\n",
       "    }\n",
       "\n",
       "    .dataframe thead th {\n",
       "        text-align: right;\n",
       "    }\n",
       "</style>\n",
       "<table border=\"1\" class=\"dataframe\">\n",
       "  <thead>\n",
       "    <tr style=\"text-align: right;\">\n",
       "      <th></th>\n",
       "      <th>audio_files</th>\n",
       "      <th>call_duration</th>\n",
       "      <th>content</th>\n",
       "      <th>files</th>\n",
       "      <th>gifs</th>\n",
       "      <th>missed</th>\n",
       "      <th>payment_info.amount</th>\n",
       "      <th>payment_info.completedTime</th>\n",
       "      <th>payment_info.creationTime</th>\n",
       "      <th>payment_info.currency</th>\n",
       "      <th>...</th>\n",
       "      <th>share.link</th>\n",
       "      <th>share.share_text</th>\n",
       "      <th>sticker.uri</th>\n",
       "      <th>timestamp_ms</th>\n",
       "      <th>type</th>\n",
       "      <th>videos</th>\n",
       "      <th>actor1</th>\n",
       "      <th>reaction1</th>\n",
       "      <th>actor2</th>\n",
       "      <th>reaction2</th>\n",
       "    </tr>\n",
       "  </thead>\n",
       "  <tbody>\n",
       "    <tr>\n",
       "      <th>0</th>\n",
       "      <td>NaN</td>\n",
       "      <td>NaN</td>\n",
       "      <td>There are some techniques I wanna try that I f...</td>\n",
       "      <td>NaN</td>\n",
       "      <td>NaN</td>\n",
       "      <td>NaN</td>\n",
       "      <td>NaN</td>\n",
       "      <td>NaN</td>\n",
       "      <td>NaN</td>\n",
       "      <td>NaN</td>\n",
       "      <td>...</td>\n",
       "      <td>NaN</td>\n",
       "      <td>NaN</td>\n",
       "      <td>NaN</td>\n",
       "      <td>1550344792535</td>\n",
       "      <td>Generic</td>\n",
       "      <td>NaN</td>\n",
       "      <td>Andrew Huang</td>\n",
       "      <td>😮</td>\n",
       "      <td>None</td>\n",
       "      <td>None</td>\n",
       "    </tr>\n",
       "    <tr>\n",
       "      <th>1</th>\n",
       "      <td>NaN</td>\n",
       "      <td>NaN</td>\n",
       "      <td>tbh I wanna have another go at fishy stickers</td>\n",
       "      <td>NaN</td>\n",
       "      <td>NaN</td>\n",
       "      <td>NaN</td>\n",
       "      <td>NaN</td>\n",
       "      <td>NaN</td>\n",
       "      <td>NaN</td>\n",
       "      <td>NaN</td>\n",
       "      <td>...</td>\n",
       "      <td>NaN</td>\n",
       "      <td>NaN</td>\n",
       "      <td>NaN</td>\n",
       "      <td>1550344764151</td>\n",
       "      <td>Generic</td>\n",
       "      <td>NaN</td>\n",
       "      <td>None</td>\n",
       "      <td>None</td>\n",
       "      <td>None</td>\n",
       "      <td>None</td>\n",
       "    </tr>\n",
       "    <tr>\n",
       "      <th>2</th>\n",
       "      <td>NaN</td>\n",
       "      <td>NaN</td>\n",
       "      <td>:3 no worries</td>\n",
       "      <td>NaN</td>\n",
       "      <td>NaN</td>\n",
       "      <td>NaN</td>\n",
       "      <td>NaN</td>\n",
       "      <td>NaN</td>\n",
       "      <td>NaN</td>\n",
       "      <td>NaN</td>\n",
       "      <td>...</td>\n",
       "      <td>NaN</td>\n",
       "      <td>NaN</td>\n",
       "      <td>NaN</td>\n",
       "      <td>1550344755800</td>\n",
       "      <td>Generic</td>\n",
       "      <td>NaN</td>\n",
       "      <td>None</td>\n",
       "      <td>None</td>\n",
       "      <td>None</td>\n",
       "      <td>None</td>\n",
       "    </tr>\n",
       "  </tbody>\n",
       "</table>\n",
       "<p>3 rows × 27 columns</p>\n",
       "</div>"
      ],
      "text/plain": [
       "  audio_files  call_duration  \\\n",
       "0         NaN            NaN   \n",
       "1         NaN            NaN   \n",
       "2         NaN            NaN   \n",
       "\n",
       "                                             content files gifs missed  \\\n",
       "0  There are some techniques I wanna try that I f...   NaN  NaN    NaN   \n",
       "1      tbh I wanna have another go at fishy stickers   NaN  NaN    NaN   \n",
       "2                                      :3 no worries   NaN  NaN    NaN   \n",
       "\n",
       "   payment_info.amount  payment_info.completedTime  payment_info.creationTime  \\\n",
       "0                  NaN                         NaN                        NaN   \n",
       "1                  NaN                         NaN                        NaN   \n",
       "2                  NaN                         NaN                        NaN   \n",
       "\n",
       "  payment_info.currency    ...    share.link share.share_text sticker.uri  \\\n",
       "0                   NaN    ...           NaN              NaN         NaN   \n",
       "1                   NaN    ...           NaN              NaN         NaN   \n",
       "2                   NaN    ...           NaN              NaN         NaN   \n",
       "\n",
       "    timestamp_ms     type videos        actor1 reaction1 actor2 reaction2  \n",
       "0  1550344792535  Generic    NaN  Andrew Huang         😮   None      None  \n",
       "1  1550344764151  Generic    NaN          None      None   None      None  \n",
       "2  1550344755800  Generic    NaN          None      None   None      None  \n",
       "\n",
       "[3 rows x 27 columns]"
      ]
     },
     "execution_count": 11,
     "metadata": {},
     "output_type": "execute_result"
    }
   ],
   "source": [
    "def decode_emoji(emoji):\n",
    "    # UTF8 emojis were incorrectly exported as Latin-1.\n",
    "    return emoji.encode('latin1').decode('utf8')\n",
    "\n",
    "def parse_reactions(r): \n",
    "    \"\"\" Parses and returns the reactions for a conversation between exactly two people.\n",
    "    \n",
    "    INPUT:  [{'reaction': 'ð\\x9f\\x91\\x8e', 'actor': 'Name1'},\n",
    "            {'reaction': 'ð\\x9f\\x98¢', 'actor': 'Name2'}]\n",
    "            \n",
    "    OUTPUT: \"Name1\", 😮, \"Name2\", 😍\n",
    "    \"\"\"\n",
    "    \n",
    "    if type(r) != list:\n",
    "        return None, None, None, None\n",
    "    \n",
    "    elif len(r) == 1:\n",
    "        return r[0]['actor'], decode_emoji(r[0]['reaction']), None, None\n",
    "    \n",
    "    else:\n",
    "        return r[0]['actor'], decode_emoji(r[0]['reaction']), r[1]['actor'], decode_emoji(r[1]['reaction'])\n",
    "    \n",
    "# parse reaction data\n",
    "raw_data['actor1'], raw_data['reaction1'], raw_data['actor2'], raw_data['reaction2'] = \\\n",
    "    zip(*raw_data['reactions'].map(parse_reactions))\n",
    "raw_data.head(3)"
   ]
  },
  {
   "cell_type": "markdown",
   "metadata": {},
   "source": [
    "# Importing Data from Cleaned HTML"
   ]
  },
  {
   "cell_type": "code",
   "execution_count": 14,
   "metadata": {},
   "outputs": [
    {
     "data": {
      "text/plain": [
       "Index(['sender_name', 'timestamp', 'content', 'actor1', 'reaction1', 'actor2',\n",
       "       'reaction2'],\n",
       "      dtype='object')"
      ]
     },
     "execution_count": 14,
     "metadata": {},
     "output_type": "execute_result"
    }
   ],
   "source": [
    "from_html = pd.read_csv('res/html/dec-15-to-sep-18.csv')\n",
    "from_html.columns"
   ]
  },
  {
   "cell_type": "code",
   "execution_count": 15,
   "metadata": {
    "scrolled": true
   },
   "outputs": [
    {
     "data": {
      "text/plain": [
       "Joyce Luong     62943\n",
       "Andrew Huang    51671\n",
       "Name: sender_name, dtype: int64"
      ]
     },
     "execution_count": 15,
     "metadata": {},
     "output_type": "execute_result"
    }
   ],
   "source": [
    "from_html['sender_name'].value_counts()"
   ]
  },
  {
   "cell_type": "code",
   "execution_count": 16,
   "metadata": {},
   "outputs": [
    {
     "data": {
      "text/html": [
       "<div>\n",
       "<style scoped>\n",
       "    .dataframe tbody tr th:only-of-type {\n",
       "        vertical-align: middle;\n",
       "    }\n",
       "\n",
       "    .dataframe tbody tr th {\n",
       "        vertical-align: top;\n",
       "    }\n",
       "\n",
       "    .dataframe thead th {\n",
       "        text-align: right;\n",
       "    }\n",
       "</style>\n",
       "<table border=\"1\" class=\"dataframe\">\n",
       "  <thead>\n",
       "    <tr style=\"text-align: right;\">\n",
       "      <th></th>\n",
       "      <th>sender_name</th>\n",
       "      <th>timestamp</th>\n",
       "      <th>content</th>\n",
       "      <th>actor1</th>\n",
       "      <th>reaction1</th>\n",
       "      <th>actor2</th>\n",
       "      <th>reaction2</th>\n",
       "    </tr>\n",
       "  </thead>\n",
       "  <tbody>\n",
       "    <tr>\n",
       "      <th>0</th>\n",
       "      <td>Andrew Huang</td>\n",
       "      <td>2018-09-19 18:01:00</td>\n",
       "      <td>Ok I guess I can download it on mine lol</td>\n",
       "      <td>Joyce Luong</td>\n",
       "      <td>😍</td>\n",
       "      <td>NaN</td>\n",
       "      <td>NaN</td>\n",
       "    </tr>\n",
       "    <tr>\n",
       "      <th>1</th>\n",
       "      <td>Joyce Luong</td>\n",
       "      <td>2018-09-19 18:00:00</td>\n",
       "      <td>It’s empty</td>\n",
       "      <td>NaN</td>\n",
       "      <td>NaN</td>\n",
       "      <td>NaN</td>\n",
       "      <td>NaN</td>\n",
       "    </tr>\n",
       "    <tr>\n",
       "      <th>2</th>\n",
       "      <td>Joyce Luong</td>\n",
       "      <td>2018-09-19 18:00:00</td>\n",
       "      <td>It won’t pull</td>\n",
       "      <td>NaN</td>\n",
       "      <td>NaN</td>\n",
       "      <td>NaN</td>\n",
       "      <td>NaN</td>\n",
       "    </tr>\n",
       "  </tbody>\n",
       "</table>\n",
       "</div>"
      ],
      "text/plain": [
       "    sender_name            timestamp  \\\n",
       "0  Andrew Huang  2018-09-19 18:01:00   \n",
       "1   Joyce Luong  2018-09-19 18:00:00   \n",
       "2   Joyce Luong  2018-09-19 18:00:00   \n",
       "\n",
       "                                    content       actor1 reaction1 actor2  \\\n",
       "0  Ok I guess I can download it on mine lol  Joyce Luong         😍    NaN   \n",
       "1                                It’s empty          NaN       NaN    NaN   \n",
       "2                             It won’t pull          NaN       NaN    NaN   \n",
       "\n",
       "  reaction2  \n",
       "0       NaN  \n",
       "1       NaN  \n",
       "2       NaN  "
      ]
     },
     "execution_count": 16,
     "metadata": {},
     "output_type": "execute_result"
    }
   ],
   "source": [
    "from_html.head(3)"
   ]
  },
  {
   "cell_type": "markdown",
   "metadata": {},
   "source": [
    "# Combining Datasets"
   ]
  },
  {
   "cell_type": "code",
   "execution_count": 24,
   "metadata": {},
   "outputs": [
    {
     "data": {
      "text/plain": [
       "Index(['sender_name', 'timestamp', 'content', 'actor1', 'reaction1', 'actor2',\n",
       "       'reaction2', 'audio_files', 'call_duration', 'files', 'gifs', 'missed',\n",
       "       'payment_info.amount', 'payment_info.completedTime',\n",
       "       'payment_info.creationTime', 'payment_info.currency',\n",
       "       'payment_info.receiverName', 'payment_info.senderName', 'photos',\n",
       "       'plan.timestamp', 'plan.title', 'reactions', 'share.link',\n",
       "       'share.share_text', 'sticker.uri', 'timestamp_ms', 'type', 'videos'],\n",
       "      dtype='object')"
      ]
     },
     "execution_count": 24,
     "metadata": {},
     "output_type": "execute_result"
    }
   ],
   "source": [
    "data = pd.concat([from_html, raw_data], sort=False)\n",
    "data.reindex()\n",
    "data.columns"
   ]
  },
  {
   "cell_type": "code",
   "execution_count": 25,
   "metadata": {},
   "outputs": [
    {
     "data": {
      "text/plain": [
       "Joyce Luong     82128\n",
       "Andrew Huang    67591\n",
       "Name: sender_name, dtype: int64"
      ]
     },
     "execution_count": 25,
     "metadata": {},
     "output_type": "execute_result"
    }
   ],
   "source": [
    "data['sender_name'].value_counts()"
   ]
  },
  {
   "cell_type": "markdown",
   "metadata": {},
   "source": [
    "## Creating Date Column"
   ]
  },
  {
   "cell_type": "code",
   "execution_count": 26,
   "metadata": {},
   "outputs": [],
   "source": [
    "data['timestamp_ms'] = pd.to_datetime(data['timestamp_ms'], unit='ms') \\\n",
    "                 .dt.tz_localize('UTC') \\\n",
    "                 .dt.tz_convert('America/Los_Angeles')\n",
    "        \n",
    "data['timestamp_ms'] = data['timestamp_ms'].dt.strftime('%a, %b %d, %Y @ %r')"
   ]
  },
  {
   "cell_type": "code",
   "execution_count": 27,
   "metadata": {},
   "outputs": [],
   "source": [
    "data['timestamp'] = pd.to_datetime(data['timestamp'])\n",
    "data['timestamp'] = data['timestamp'].dt.strftime('%a, %b %d, %Y @ %r')"
   ]
  },
  {
   "cell_type": "code",
   "execution_count": 28,
   "metadata": {},
   "outputs": [
    {
     "data": {
      "text/html": [
       "<div>\n",
       "<style scoped>\n",
       "    .dataframe tbody tr th:only-of-type {\n",
       "        vertical-align: middle;\n",
       "    }\n",
       "\n",
       "    .dataframe tbody tr th {\n",
       "        vertical-align: top;\n",
       "    }\n",
       "\n",
       "    .dataframe thead th {\n",
       "        text-align: right;\n",
       "    }\n",
       "</style>\n",
       "<table border=\"1\" class=\"dataframe\">\n",
       "  <thead>\n",
       "    <tr style=\"text-align: right;\">\n",
       "      <th></th>\n",
       "      <th>index</th>\n",
       "      <th>sender_name</th>\n",
       "      <th>timestamp</th>\n",
       "      <th>content</th>\n",
       "      <th>actor1</th>\n",
       "      <th>reaction1</th>\n",
       "      <th>actor2</th>\n",
       "      <th>reaction2</th>\n",
       "      <th>audio_files</th>\n",
       "      <th>call_duration</th>\n",
       "      <th>...</th>\n",
       "      <th>plan.timestamp</th>\n",
       "      <th>plan.title</th>\n",
       "      <th>reactions</th>\n",
       "      <th>share.link</th>\n",
       "      <th>share.share_text</th>\n",
       "      <th>sticker.uri</th>\n",
       "      <th>timestamp_ms</th>\n",
       "      <th>type</th>\n",
       "      <th>videos</th>\n",
       "      <th>date</th>\n",
       "    </tr>\n",
       "  </thead>\n",
       "  <tbody>\n",
       "    <tr>\n",
       "      <th>0</th>\n",
       "      <td>0</td>\n",
       "      <td>Andrew Huang</td>\n",
       "      <td>Wed, Sep 19, 2018 @ 06:01:00 PM</td>\n",
       "      <td>Ok I guess I can download it on mine lol</td>\n",
       "      <td>Joyce Luong</td>\n",
       "      <td>😍</td>\n",
       "      <td>NaN</td>\n",
       "      <td>NaN</td>\n",
       "      <td>NaN</td>\n",
       "      <td>NaN</td>\n",
       "      <td>...</td>\n",
       "      <td>NaN</td>\n",
       "      <td>NaN</td>\n",
       "      <td>NaN</td>\n",
       "      <td>NaN</td>\n",
       "      <td>NaN</td>\n",
       "      <td>NaN</td>\n",
       "      <td>NaT</td>\n",
       "      <td>NaN</td>\n",
       "      <td>NaN</td>\n",
       "      <td>2018-09-19 18:01:00</td>\n",
       "    </tr>\n",
       "    <tr>\n",
       "      <th>1</th>\n",
       "      <td>1</td>\n",
       "      <td>Joyce Luong</td>\n",
       "      <td>Wed, Sep 19, 2018 @ 06:00:00 PM</td>\n",
       "      <td>It’s empty</td>\n",
       "      <td>NaN</td>\n",
       "      <td>NaN</td>\n",
       "      <td>NaN</td>\n",
       "      <td>NaN</td>\n",
       "      <td>NaN</td>\n",
       "      <td>NaN</td>\n",
       "      <td>...</td>\n",
       "      <td>NaN</td>\n",
       "      <td>NaN</td>\n",
       "      <td>NaN</td>\n",
       "      <td>NaN</td>\n",
       "      <td>NaN</td>\n",
       "      <td>NaN</td>\n",
       "      <td>NaT</td>\n",
       "      <td>NaN</td>\n",
       "      <td>NaN</td>\n",
       "      <td>2018-09-19 18:00:00</td>\n",
       "    </tr>\n",
       "    <tr>\n",
       "      <th>2</th>\n",
       "      <td>2</td>\n",
       "      <td>Joyce Luong</td>\n",
       "      <td>Wed, Sep 19, 2018 @ 06:00:00 PM</td>\n",
       "      <td>It won’t pull</td>\n",
       "      <td>NaN</td>\n",
       "      <td>NaN</td>\n",
       "      <td>NaN</td>\n",
       "      <td>NaN</td>\n",
       "      <td>NaN</td>\n",
       "      <td>NaN</td>\n",
       "      <td>...</td>\n",
       "      <td>NaN</td>\n",
       "      <td>NaN</td>\n",
       "      <td>NaN</td>\n",
       "      <td>NaN</td>\n",
       "      <td>NaN</td>\n",
       "      <td>NaN</td>\n",
       "      <td>NaT</td>\n",
       "      <td>NaN</td>\n",
       "      <td>NaN</td>\n",
       "      <td>2018-09-19 18:00:00</td>\n",
       "    </tr>\n",
       "    <tr>\n",
       "      <th>3</th>\n",
       "      <td>3</td>\n",
       "      <td>Andrew Huang</td>\n",
       "      <td>Wed, Sep 19, 2018 @ 06:00:00 PM</td>\n",
       "      <td>Seems like a thing to try</td>\n",
       "      <td>NaN</td>\n",
       "      <td>NaN</td>\n",
       "      <td>NaN</td>\n",
       "      <td>NaN</td>\n",
       "      <td>NaN</td>\n",
       "      <td>NaN</td>\n",
       "      <td>...</td>\n",
       "      <td>NaN</td>\n",
       "      <td>NaN</td>\n",
       "      <td>NaN</td>\n",
       "      <td>NaN</td>\n",
       "      <td>NaN</td>\n",
       "      <td>NaN</td>\n",
       "      <td>NaT</td>\n",
       "      <td>NaN</td>\n",
       "      <td>NaN</td>\n",
       "      <td>2018-09-19 18:00:00</td>\n",
       "    </tr>\n",
       "    <tr>\n",
       "      <th>4</th>\n",
       "      <td>4</td>\n",
       "      <td>Andrew Huang</td>\n",
       "      <td>Wed, Sep 19, 2018 @ 06:00:00 PM</td>\n",
       "      <td>And pull it</td>\n",
       "      <td>NaN</td>\n",
       "      <td>NaN</td>\n",
       "      <td>NaN</td>\n",
       "      <td>NaN</td>\n",
       "      <td>NaN</td>\n",
       "      <td>NaN</td>\n",
       "      <td>...</td>\n",
       "      <td>NaN</td>\n",
       "      <td>NaN</td>\n",
       "      <td>NaN</td>\n",
       "      <td>NaN</td>\n",
       "      <td>NaN</td>\n",
       "      <td>NaN</td>\n",
       "      <td>NaT</td>\n",
       "      <td>NaN</td>\n",
       "      <td>NaN</td>\n",
       "      <td>2018-09-19 18:00:00</td>\n",
       "    </tr>\n",
       "  </tbody>\n",
       "</table>\n",
       "<p>5 rows × 30 columns</p>\n",
       "</div>"
      ],
      "text/plain": [
       "   index   sender_name                        timestamp  \\\n",
       "0      0  Andrew Huang  Wed, Sep 19, 2018 @ 06:01:00 PM   \n",
       "1      1   Joyce Luong  Wed, Sep 19, 2018 @ 06:00:00 PM   \n",
       "2      2   Joyce Luong  Wed, Sep 19, 2018 @ 06:00:00 PM   \n",
       "3      3  Andrew Huang  Wed, Sep 19, 2018 @ 06:00:00 PM   \n",
       "4      4  Andrew Huang  Wed, Sep 19, 2018 @ 06:00:00 PM   \n",
       "\n",
       "                                    content       actor1 reaction1 actor2  \\\n",
       "0  Ok I guess I can download it on mine lol  Joyce Luong         😍    NaN   \n",
       "1                                It’s empty          NaN       NaN    NaN   \n",
       "2                             It won’t pull          NaN       NaN    NaN   \n",
       "3                 Seems like a thing to try          NaN       NaN    NaN   \n",
       "4                               And pull it          NaN       NaN    NaN   \n",
       "\n",
       "  reaction2 audio_files  call_duration         ...         plan.timestamp  \\\n",
       "0       NaN         NaN            NaN         ...                    NaN   \n",
       "1       NaN         NaN            NaN         ...                    NaN   \n",
       "2       NaN         NaN            NaN         ...                    NaN   \n",
       "3       NaN         NaN            NaN         ...                    NaN   \n",
       "4       NaN         NaN            NaN         ...                    NaN   \n",
       "\n",
       "  plan.title reactions  share.link  share.share_text  sticker.uri  \\\n",
       "0        NaN       NaN         NaN               NaN          NaN   \n",
       "1        NaN       NaN         NaN               NaN          NaN   \n",
       "2        NaN       NaN         NaN               NaN          NaN   \n",
       "3        NaN       NaN         NaN               NaN          NaN   \n",
       "4        NaN       NaN         NaN               NaN          NaN   \n",
       "\n",
       "  timestamp_ms type videos                date  \n",
       "0          NaT  NaN    NaN 2018-09-19 18:01:00  \n",
       "1          NaT  NaN    NaN 2018-09-19 18:00:00  \n",
       "2          NaT  NaN    NaN 2018-09-19 18:00:00  \n",
       "3          NaT  NaN    NaN 2018-09-19 18:00:00  \n",
       "4          NaT  NaN    NaN 2018-09-19 18:00:00  \n",
       "\n",
       "[5 rows x 30 columns]"
      ]
     },
     "execution_count": 28,
     "metadata": {},
     "output_type": "execute_result"
    }
   ],
   "source": [
    "from dateutil import parser\n",
    "temp = data['timestamp_ms'] + data['timestamp']\n",
    "\n",
    "def ugh(s):\n",
    "    if s[:3] == 'NaT':\n",
    "        return pd.to_datetime(s[3:], format='%a, %b %d, %Y @ %I:%M:%S %p')\n",
    "    else:\n",
    "        return pd.to_datetime(s[:-3], format='%a, %b %d, %Y @ %I:%M:%S %p')\n",
    "    \n",
    "data['date'] = temp.apply(ugh)\n",
    "data.reset_index(inplace=True)\n",
    "data.head()"
   ]
  },
  {
   "cell_type": "markdown",
   "metadata": {},
   "source": [
    "# Initial Impressions"
   ]
  },
  {
   "cell_type": "code",
   "execution_count": 29,
   "metadata": {},
   "outputs": [
    {
     "data": {
      "text/html": [
       "<div>\n",
       "<style scoped>\n",
       "    .dataframe tbody tr th:only-of-type {\n",
       "        vertical-align: middle;\n",
       "    }\n",
       "\n",
       "    .dataframe tbody tr th {\n",
       "        vertical-align: top;\n",
       "    }\n",
       "\n",
       "    .dataframe thead th {\n",
       "        text-align: right;\n",
       "    }\n",
       "</style>\n",
       "<table border=\"1\" class=\"dataframe\">\n",
       "  <thead>\n",
       "    <tr style=\"text-align: right;\">\n",
       "      <th></th>\n",
       "      <th>sender_name</th>\n",
       "      <th>date</th>\n",
       "      <th>content</th>\n",
       "      <th>actor1</th>\n",
       "      <th>reaction1</th>\n",
       "      <th>actor2</th>\n",
       "      <th>reaction2</th>\n",
       "    </tr>\n",
       "  </thead>\n",
       "  <tbody>\n",
       "    <tr>\n",
       "      <th>114614</th>\n",
       "      <td>Joyce Luong</td>\n",
       "      <td>2019-02-16 11:19:52</td>\n",
       "      <td>There are some techniques I wanna try that I f...</td>\n",
       "      <td>Andrew Huang</td>\n",
       "      <td>😮</td>\n",
       "      <td>None</td>\n",
       "      <td>None</td>\n",
       "    </tr>\n",
       "    <tr>\n",
       "      <th>114615</th>\n",
       "      <td>Joyce Luong</td>\n",
       "      <td>2019-02-16 11:19:24</td>\n",
       "      <td>tbh I wanna have another go at fishy stickers</td>\n",
       "      <td>None</td>\n",
       "      <td>None</td>\n",
       "      <td>None</td>\n",
       "      <td>None</td>\n",
       "    </tr>\n",
       "    <tr>\n",
       "      <th>114616</th>\n",
       "      <td>Joyce Luong</td>\n",
       "      <td>2019-02-16 11:19:15</td>\n",
       "      <td>:3 no worries</td>\n",
       "      <td>None</td>\n",
       "      <td>None</td>\n",
       "      <td>None</td>\n",
       "      <td>None</td>\n",
       "    </tr>\n",
       "    <tr>\n",
       "      <th>114617</th>\n",
       "      <td>Andrew Huang</td>\n",
       "      <td>2019-02-16 11:19:02</td>\n",
       "      <td>but I don't have an excuse to get a new laptop...</td>\n",
       "      <td>None</td>\n",
       "      <td>None</td>\n",
       "      <td>None</td>\n",
       "      <td>None</td>\n",
       "    </tr>\n",
       "    <tr>\n",
       "      <th>114618</th>\n",
       "      <td>Andrew Huang</td>\n",
       "      <td>2019-02-16 11:18:44</td>\n",
       "      <td>I can't wait to use those</td>\n",
       "      <td>Joyce Luong</td>\n",
       "      <td>😍</td>\n",
       "      <td>None</td>\n",
       "      <td>None</td>\n",
       "    </tr>\n",
       "  </tbody>\n",
       "</table>\n",
       "</div>"
      ],
      "text/plain": [
       "         sender_name                date  \\\n",
       "114614   Joyce Luong 2019-02-16 11:19:52   \n",
       "114615   Joyce Luong 2019-02-16 11:19:24   \n",
       "114616   Joyce Luong 2019-02-16 11:19:15   \n",
       "114617  Andrew Huang 2019-02-16 11:19:02   \n",
       "114618  Andrew Huang 2019-02-16 11:18:44   \n",
       "\n",
       "                                                  content        actor1  \\\n",
       "114614  There are some techniques I wanna try that I f...  Andrew Huang   \n",
       "114615      tbh I wanna have another go at fishy stickers          None   \n",
       "114616                                      :3 no worries          None   \n",
       "114617  but I don't have an excuse to get a new laptop...          None   \n",
       "114618                          I can't wait to use those   Joyce Luong   \n",
       "\n",
       "       reaction1 actor2 reaction2  \n",
       "114614         😮   None      None  \n",
       "114615      None   None      None  \n",
       "114616      None   None      None  \n",
       "114617      None   None      None  \n",
       "114618         😍   None      None  "
      ]
     },
     "execution_count": 29,
     "metadata": {},
     "output_type": "execute_result"
    }
   ],
   "source": [
    "# # only look at 'generic' messages\n",
    "# data = combined[combined['type'] == 'Generic'].copy()\n",
    "\n",
    "# print(\"NOTE: Lost these many non-generic rows: {} or {}%\". \\\n",
    "#       format(len(raw_data) - len(data), round(100*(len(raw_data) - len(data))/len(raw_data), 3)))\n",
    "\n",
    "# slice out columns of interest\n",
    "data = data.loc[:, ['sender_name', 'date', 'content', 'actor1', 'reaction1', 'actor2', 'reaction2']]\n",
    "data = data.sort_values('date', ascending=False)\n",
    "\n",
    "data.head(5)"
   ]
  },
  {
   "cell_type": "markdown",
   "metadata": {},
   "source": [
    "## Number of Messages Sent Per Person"
   ]
  },
  {
   "cell_type": "code",
   "execution_count": 30,
   "metadata": {},
   "outputs": [
    {
     "data": {
      "text/plain": [
       "Joyce Luong     82128\n",
       "Andrew Huang    67591\n",
       "Name: sender_name, dtype: int64"
      ]
     },
     "execution_count": 30,
     "metadata": {},
     "output_type": "execute_result"
    }
   ],
   "source": [
    "data['sender_name'].value_counts()"
   ]
  },
  {
   "cell_type": "code",
   "execution_count": 31,
   "metadata": {},
   "outputs": [
    {
     "data": {
      "text/html": [
       "<div>\n",
       "<style scoped>\n",
       "    .dataframe tbody tr th:only-of-type {\n",
       "        vertical-align: middle;\n",
       "    }\n",
       "\n",
       "    .dataframe tbody tr th {\n",
       "        vertical-align: top;\n",
       "    }\n",
       "\n",
       "    .dataframe thead th {\n",
       "        text-align: right;\n",
       "    }\n",
       "</style>\n",
       "<table border=\"1\" class=\"dataframe\">\n",
       "  <thead>\n",
       "    <tr style=\"text-align: right;\">\n",
       "      <th></th>\n",
       "      <th>sender_name</th>\n",
       "      <th>date</th>\n",
       "      <th>content</th>\n",
       "      <th>actor1</th>\n",
       "      <th>reaction1</th>\n",
       "      <th>actor2</th>\n",
       "      <th>reaction2</th>\n",
       "      <th>month</th>\n",
       "      <th>hour</th>\n",
       "      <th>year_month</th>\n",
       "    </tr>\n",
       "  </thead>\n",
       "  <tbody>\n",
       "    <tr>\n",
       "      <th>114614</th>\n",
       "      <td>Joyce Luong</td>\n",
       "      <td>2019-02-16 11:19:52</td>\n",
       "      <td>There are some techniques I wanna try that I f...</td>\n",
       "      <td>Andrew Huang</td>\n",
       "      <td>😮</td>\n",
       "      <td>None</td>\n",
       "      <td>None</td>\n",
       "      <td>2</td>\n",
       "      <td>11</td>\n",
       "      <td>2019-02</td>\n",
       "    </tr>\n",
       "    <tr>\n",
       "      <th>114615</th>\n",
       "      <td>Joyce Luong</td>\n",
       "      <td>2019-02-16 11:19:24</td>\n",
       "      <td>tbh I wanna have another go at fishy stickers</td>\n",
       "      <td>None</td>\n",
       "      <td>None</td>\n",
       "      <td>None</td>\n",
       "      <td>None</td>\n",
       "      <td>2</td>\n",
       "      <td>11</td>\n",
       "      <td>2019-02</td>\n",
       "    </tr>\n",
       "    <tr>\n",
       "      <th>114616</th>\n",
       "      <td>Joyce Luong</td>\n",
       "      <td>2019-02-16 11:19:15</td>\n",
       "      <td>:3 no worries</td>\n",
       "      <td>None</td>\n",
       "      <td>None</td>\n",
       "      <td>None</td>\n",
       "      <td>None</td>\n",
       "      <td>2</td>\n",
       "      <td>11</td>\n",
       "      <td>2019-02</td>\n",
       "    </tr>\n",
       "    <tr>\n",
       "      <th>114617</th>\n",
       "      <td>Andrew Huang</td>\n",
       "      <td>2019-02-16 11:19:02</td>\n",
       "      <td>but I don't have an excuse to get a new laptop...</td>\n",
       "      <td>None</td>\n",
       "      <td>None</td>\n",
       "      <td>None</td>\n",
       "      <td>None</td>\n",
       "      <td>2</td>\n",
       "      <td>11</td>\n",
       "      <td>2019-02</td>\n",
       "    </tr>\n",
       "    <tr>\n",
       "      <th>114618</th>\n",
       "      <td>Andrew Huang</td>\n",
       "      <td>2019-02-16 11:18:44</td>\n",
       "      <td>I can't wait to use those</td>\n",
       "      <td>Joyce Luong</td>\n",
       "      <td>😍</td>\n",
       "      <td>None</td>\n",
       "      <td>None</td>\n",
       "      <td>2</td>\n",
       "      <td>11</td>\n",
       "      <td>2019-02</td>\n",
       "    </tr>\n",
       "  </tbody>\n",
       "</table>\n",
       "</div>"
      ],
      "text/plain": [
       "         sender_name                date  \\\n",
       "114614   Joyce Luong 2019-02-16 11:19:52   \n",
       "114615   Joyce Luong 2019-02-16 11:19:24   \n",
       "114616   Joyce Luong 2019-02-16 11:19:15   \n",
       "114617  Andrew Huang 2019-02-16 11:19:02   \n",
       "114618  Andrew Huang 2019-02-16 11:18:44   \n",
       "\n",
       "                                                  content        actor1  \\\n",
       "114614  There are some techniques I wanna try that I f...  Andrew Huang   \n",
       "114615      tbh I wanna have another go at fishy stickers          None   \n",
       "114616                                      :3 no worries          None   \n",
       "114617  but I don't have an excuse to get a new laptop...          None   \n",
       "114618                          I can't wait to use those   Joyce Luong   \n",
       "\n",
       "       reaction1 actor2 reaction2  month  hour year_month  \n",
       "114614         😮   None      None      2    11    2019-02  \n",
       "114615      None   None      None      2    11    2019-02  \n",
       "114616      None   None      None      2    11    2019-02  \n",
       "114617      None   None      None      2    11    2019-02  \n",
       "114618         😍   None      None      2    11    2019-02  "
      ]
     },
     "execution_count": 31,
     "metadata": {},
     "output_type": "execute_result"
    }
   ],
   "source": [
    "data['month'] = data['date'].dt.month\n",
    "data['hour'] = data['date'].dt.hour\n",
    "data['year_month'] = data['date'].dt.strftime('%Y-%m')\n",
    "data.head()"
   ]
  },
  {
   "cell_type": "markdown",
   "metadata": {},
   "source": [
    "## Removing Specific Days"
   ]
  },
  {
   "cell_type": "code",
   "execution_count": null,
   "metadata": {},
   "outputs": [],
   "source": [
    "# data = data[~((data['date'].dt.year == 2018) & (data['date'].dt.month == 12) & (data['date'].dt.day == 30))]\n",
    "# data['sender_name'].value_counts()"
   ]
  },
  {
   "cell_type": "markdown",
   "metadata": {},
   "source": [
    "## Message Count Over Time"
   ]
  },
  {
   "cell_type": "code",
   "execution_count": 32,
   "metadata": {},
   "outputs": [
    {
     "data": {
      "image/png": "[encoded data removed]",
      "text/plain": [
       "<matplotlib.figure.Figure at 0x1060be9e8>"
      ]
     },
     "metadata": {},
     "output_type": "display_data"
    }
   ],
   "source": [
    "ax = sns.countplot(data['date'].dt.year)\n",
    "ax.set_ylabel(\"Year\")\n",
    "ax.set_xlabel(\"Number of Messages\")\n",
    "ax.set_title(\"Number of Messages By Year\");"
   ]
  },
  {
   "cell_type": "code",
   "execution_count": 33,
   "metadata": {},
   "outputs": [
    {
     "data": {
      "image/png": "[encoded data removed]",
      "text/plain": [
       "<matplotlib.figure.Figure at 0x1a14e62b38>"
      ]
     },
     "metadata": {},
     "output_type": "display_data"
    }
   ],
   "source": [
    "ax = sns.countplot(data['date'].dt.month)\n",
    "ax.set_xlabel(\"Month\")\n",
    "ax.set_ylabel(\"Number of Messages\")\n",
    "ax.set_title(\"Number of Messages By Month\");"
   ]
  },
  {
   "cell_type": "code",
   "execution_count": 34,
   "metadata": {},
   "outputs": [
    {
     "data": {
      "image/png": "[encoded data removed]",
      "text/plain": [
       "<matplotlib.figure.Figure at 0x10696b1d0>"
      ]
     },
     "metadata": {},
     "output_type": "display_data"
    }
   ],
   "source": [
    "data['hour'] = data['date'].dt.hour\n",
    "ax.set_xticklabels(ax.get_xticklabels(), rotation=90)\n",
    "ax = sns.countplot(x='hour',hue='sender_name',data=data)\n",
    "ax.set_title(\"Number of Messages By Hour\");"
   ]
  },
  {
   "cell_type": "code",
   "execution_count": 102,
   "metadata": {},
   "outputs": [
    {
     "data": {
      "image/png": "[encoded data removed]",
      "text/plain": [
       "<matplotlib.figure.Figure at 0x106a4c7f0>"
      ]
     },
     "metadata": {},
     "output_type": "display_data"
    }
   ],
   "source": [
    "year_month = sorted(list(data['year_month'].unique()) + ['2016-02', '2016-11', '2017-06', '2017-07', '2017-08']) # order to display the x-axis\n",
    "ax = sns.countplot(x='year_month', hue='sender_name', data=data, order=year_month)\n",
    "ax.set_xticklabels(ax.get_xticklabels(), rotation=90)\n",
    "ax.set_title(\"Number of Messages By Month\");"
   ]
  },
  {
   "cell_type": "code",
   "execution_count": 103,
   "metadata": {},
   "outputs": [],
   "source": [
    "count_chars = lambda row: sum([len(str(i)) for i in row])\n",
    "reduced = data.loc[:, ['year_month', 'sender_name', 'content']]\n",
    "\n",
    "char_len = reduced.groupby([reduced['year_month'], reduced['sender_name']]).agg(count_chars)\n",
    "char_len.reset_index(inplace=True)"
   ]
  },
  {
   "cell_type": "code",
   "execution_count": 114,
   "metadata": {},
   "outputs": [
    {
     "data": {
      "image/png": "[encoded data removed]",
      "text/plain": [
       "<matplotlib.figure.Figure at 0x106d33ac8>"
      ]
     },
     "metadata": {},
     "output_type": "display_data"
    }
   ],
   "source": [
    "ax = sns.barplot(x='year_month', y='content', hue='sender_name', data=char_len, order=year_month)\n",
    "ax.set_xticklabels(ax.get_xticklabels(), rotation=90)\n",
    "ax.set_title(\"Character Count by Month\");\n",
    "ax.set_ylabel(\"Characters\")\n",
    "ax.set_xlabel(\"Month\");"
   ]
  },
  {
   "cell_type": "code",
   "execution_count": 115,
   "metadata": {},
   "outputs": [
    {
     "data": {
      "image/png": "[encoded data removed]",
      "text/plain": [
       "<matplotlib.figure.Figure at 0x10657f320>"
      ]
     },
     "metadata": {},
     "output_type": "display_data"
    }
   ],
   "source": [
    "love = data[data['content'].str.contains('love', na=False)]\n",
    "love = love.loc[:, ['content']]\n",
    "\n",
    "count = lambda row: sum([len(str(i)) for i in row])\n",
    "love = love.groupby([reduced['year_month'], reduced['sender_name']]).count()\n",
    "love.reset_index(inplace=True)\n",
    "\n",
    "ax = sns.barplot(x='year_month', y='content', hue='sender_name', data=love, order=year_month)\n",
    "ax.set_xticklabels(ax.get_xticklabels(), rotation=90)\n",
    "ax.set_title(\"How Many Times 'Love' Was Used\");\n",
    "ax.set_ylabel(\"Usage\")\n",
    "ax.set_xlabel(\"Month\");"
   ]
  },
  {
   "cell_type": "code",
   "execution_count": 106,
   "metadata": {},
   "outputs": [
    {
     "data": {
      "text/plain": [
       "👍    5101\n",
       "😍    2104\n",
       "😮    1449\n",
       "😆     992\n",
       "😢     868\n",
       "👎     343\n",
       "😠     146\n",
       "🐙       1\n",
       "🐰       1\n",
       "💪       1\n",
       "🐸       1\n",
       "🐯       1\n",
       "Name: reaction1, dtype: int64"
      ]
     },
     "execution_count": 106,
     "metadata": {},
     "output_type": "execute_result"
    }
   ],
   "source": [
    "data['reaction1'].value_counts()"
   ]
  },
  {
   "cell_type": "code",
   "execution_count": 107,
   "metadata": {},
   "outputs": [
    {
     "data": {
      "text/plain": [
       "Joyce Luong     7891\n",
       "Andrew Huang    3117\n",
       "Name: actor1, dtype: int64"
      ]
     },
     "execution_count": 107,
     "metadata": {},
     "output_type": "execute_result"
    }
   ],
   "source": [
    "data['actor1'].value_counts()"
   ]
  },
  {
   "cell_type": "code",
   "execution_count": 119,
   "metadata": {},
   "outputs": [
    {
     "data": {
      "text/html": [
       "<div>\n",
       "<style scoped>\n",
       "    .dataframe tbody tr th:only-of-type {\n",
       "        vertical-align: middle;\n",
       "    }\n",
       "\n",
       "    .dataframe tbody tr th {\n",
       "        vertical-align: top;\n",
       "    }\n",
       "\n",
       "    .dataframe thead th {\n",
       "        text-align: right;\n",
       "    }\n",
       "</style>\n",
       "<table border=\"1\" class=\"dataframe\">\n",
       "  <thead>\n",
       "    <tr style=\"text-align: right;\">\n",
       "      <th></th>\n",
       "      <th>year_month</th>\n",
       "      <th>actor1</th>\n",
       "      <th>reaction1</th>\n",
       "    </tr>\n",
       "  </thead>\n",
       "  <tbody>\n",
       "    <tr>\n",
       "      <th>0</th>\n",
       "      <td>2017-04</td>\n",
       "      <td>Andrew Huang</td>\n",
       "      <td>5</td>\n",
       "    </tr>\n",
       "    <tr>\n",
       "      <th>1</th>\n",
       "      <td>2017-04</td>\n",
       "      <td>Joyce Luong</td>\n",
       "      <td>8</td>\n",
       "    </tr>\n",
       "    <tr>\n",
       "      <th>2</th>\n",
       "      <td>2017-05</td>\n",
       "      <td>Andrew Huang</td>\n",
       "      <td>30</td>\n",
       "    </tr>\n",
       "    <tr>\n",
       "      <th>3</th>\n",
       "      <td>2017-05</td>\n",
       "      <td>Joyce Luong</td>\n",
       "      <td>56</td>\n",
       "    </tr>\n",
       "    <tr>\n",
       "      <th>4</th>\n",
       "      <td>2017-09</td>\n",
       "      <td>Andrew Huang</td>\n",
       "      <td>73</td>\n",
       "    </tr>\n",
       "  </tbody>\n",
       "</table>\n",
       "</div>"
      ],
      "text/plain": [
       "  year_month        actor1  reaction1\n",
       "0    2017-04  Andrew Huang          5\n",
       "1    2017-04   Joyce Luong          8\n",
       "2    2017-05  Andrew Huang         30\n",
       "3    2017-05   Joyce Luong         56\n",
       "4    2017-09  Andrew Huang         73"
      ]
     },
     "execution_count": 119,
     "metadata": {},
     "output_type": "execute_result"
    }
   ],
   "source": [
    "count_reactions = lambda row: sum([len(str(i)) for i in row])\n",
    "reactions_temp = data.loc[:, ['year_month','reaction1', 'actor1']].dropna(subset=['reaction1'])\n",
    "\n",
    "reactions = reactions_temp.groupby([reactions_temp['year_month'], reactions_temp['actor1']]).agg(count_reactions)\n",
    "reactions.reset_index(inplace=True)\n",
    "reactions.head()"
   ]
  },
  {
   "cell_type": "code",
   "execution_count": 121,
   "metadata": {},
   "outputs": [
    {
     "data": {
      "image/png": "[encoded data removed]",
      "text/plain": [
       "<matplotlib.figure.Figure at 0x10604ff60>"
      ]
     },
     "metadata": {},
     "output_type": "display_data"
    }
   ],
   "source": [
    "year_month = sorted(list(data['year_month'].unique()) + ['2016-02', '2016-11', '2017-06', '2017-07', '2017-08']) # order to display the x-axis\n",
    "\n",
    "ax = sns.barplot(x='year_month', y='reaction1', hue='actor1', data=reactions, order=year_month)\n",
    "ax.set_xticklabels(ax.get_xticklabels(), rotation=90)\n",
    "ax.set_title(\"How Many Reactions Were Used\");\n",
    "ax.set_ylabel(\"Usage\")\n",
    "ax.set_xlabel(\"Month\");"
   ]
  },
  {
   "cell_type": "code",
   "execution_count": 110,
   "metadata": {},
   "outputs": [
    {
     "data": {
      "text/html": [
       "<div>\n",
       "<style scoped>\n",
       "    .dataframe tbody tr th:only-of-type {\n",
       "        vertical-align: middle;\n",
       "    }\n",
       "\n",
       "    .dataframe tbody tr th {\n",
       "        vertical-align: top;\n",
       "    }\n",
       "\n",
       "    .dataframe thead th {\n",
       "        text-align: right;\n",
       "    }\n",
       "</style>\n",
       "<table border=\"1\" class=\"dataframe\">\n",
       "  <thead>\n",
       "    <tr style=\"text-align: right;\">\n",
       "      <th></th>\n",
       "      <th>reaction1</th>\n",
       "      <th>actor1</th>\n",
       "      <th>content</th>\n",
       "    </tr>\n",
       "  </thead>\n",
       "  <tbody>\n",
       "    <tr>\n",
       "      <th>0</th>\n",
       "      <td>🐙</td>\n",
       "      <td>Andrew Huang</td>\n",
       "      <td>1</td>\n",
       "    </tr>\n",
       "    <tr>\n",
       "      <th>1</th>\n",
       "      <td>🐯</td>\n",
       "      <td>Andrew Huang</td>\n",
       "      <td>1</td>\n",
       "    </tr>\n",
       "    <tr>\n",
       "      <th>2</th>\n",
       "      <td>🐰</td>\n",
       "      <td>Andrew Huang</td>\n",
       "      <td>1</td>\n",
       "    </tr>\n",
       "    <tr>\n",
       "      <th>3</th>\n",
       "      <td>🐸</td>\n",
       "      <td>Andrew Huang</td>\n",
       "      <td>1</td>\n",
       "    </tr>\n",
       "    <tr>\n",
       "      <th>4</th>\n",
       "      <td>👍</td>\n",
       "      <td>Andrew Huang</td>\n",
       "      <td>1521</td>\n",
       "    </tr>\n",
       "    <tr>\n",
       "      <th>5</th>\n",
       "      <td>👍</td>\n",
       "      <td>Joyce Luong</td>\n",
       "      <td>3580</td>\n",
       "    </tr>\n",
       "    <tr>\n",
       "      <th>6</th>\n",
       "      <td>👎</td>\n",
       "      <td>Andrew Huang</td>\n",
       "      <td>76</td>\n",
       "    </tr>\n",
       "    <tr>\n",
       "      <th>7</th>\n",
       "      <td>👎</td>\n",
       "      <td>Joyce Luong</td>\n",
       "      <td>266</td>\n",
       "    </tr>\n",
       "    <tr>\n",
       "      <th>8</th>\n",
       "      <td>💪</td>\n",
       "      <td>Andrew Huang</td>\n",
       "      <td>1</td>\n",
       "    </tr>\n",
       "    <tr>\n",
       "      <th>9</th>\n",
       "      <td>😆</td>\n",
       "      <td>Andrew Huang</td>\n",
       "      <td>233</td>\n",
       "    </tr>\n",
       "  </tbody>\n",
       "</table>\n",
       "</div>"
      ],
      "text/plain": [
       "  reaction1        actor1  content\n",
       "0         🐙  Andrew Huang        1\n",
       "1         🐯  Andrew Huang        1\n",
       "2         🐰  Andrew Huang        1\n",
       "3         🐸  Andrew Huang        1\n",
       "4         👍  Andrew Huang     1521\n",
       "5         👍   Joyce Luong     3580\n",
       "6         👎  Andrew Huang       76\n",
       "7         👎   Joyce Luong      266\n",
       "8         💪  Andrew Huang        1\n",
       "9         😆  Andrew Huang      233"
      ]
     },
     "execution_count": 110,
     "metadata": {},
     "output_type": "execute_result"
    }
   ],
   "source": [
    "count_reactions = lambda row: list(row)\n",
    "reactions_temp = data.loc[:, ['reaction1', 'actor1', 'content']].dropna(subset=['reaction1'])\n",
    "\n",
    "reactions = reactions_temp.groupby([reactions_temp['reaction1'], reactions_temp['actor1']]).count()\n",
    "reactions.reset_index(inplace=True)\n",
    "\n",
    "reactions.head(10)"
   ]
  },
  {
   "cell_type": "code",
   "execution_count": 111,
   "metadata": {},
   "outputs": [
    {
     "data": {
      "text/html": [
       "<div>\n",
       "<style scoped>\n",
       "    .dataframe tbody tr th:only-of-type {\n",
       "        vertical-align: middle;\n",
       "    }\n",
       "\n",
       "    .dataframe tbody tr th {\n",
       "        vertical-align: top;\n",
       "    }\n",
       "\n",
       "    .dataframe thead th {\n",
       "        text-align: right;\n",
       "    }\n",
       "</style>\n",
       "<table border=\"1\" class=\"dataframe\">\n",
       "  <thead>\n",
       "    <tr style=\"text-align: right;\">\n",
       "      <th></th>\n",
       "      <th>reaction1</th>\n",
       "      <th>actor1</th>\n",
       "      <th>content</th>\n",
       "    </tr>\n",
       "  </thead>\n",
       "  <tbody>\n",
       "    <tr>\n",
       "      <th>4</th>\n",
       "      <td>👍</td>\n",
       "      <td>Andrew Huang</td>\n",
       "      <td>1521</td>\n",
       "    </tr>\n",
       "    <tr>\n",
       "      <th>5</th>\n",
       "      <td>👍</td>\n",
       "      <td>Joyce Luong</td>\n",
       "      <td>3580</td>\n",
       "    </tr>\n",
       "    <tr>\n",
       "      <th>6</th>\n",
       "      <td>👎</td>\n",
       "      <td>Andrew Huang</td>\n",
       "      <td>76</td>\n",
       "    </tr>\n",
       "    <tr>\n",
       "      <th>7</th>\n",
       "      <td>👎</td>\n",
       "      <td>Joyce Luong</td>\n",
       "      <td>266</td>\n",
       "    </tr>\n",
       "    <tr>\n",
       "      <th>9</th>\n",
       "      <td>😆</td>\n",
       "      <td>Andrew Huang</td>\n",
       "      <td>233</td>\n",
       "    </tr>\n",
       "  </tbody>\n",
       "</table>\n",
       "</div>"
      ],
      "text/plain": [
       "  reaction1        actor1  content\n",
       "4         👍  Andrew Huang     1521\n",
       "5         👍   Joyce Luong     3580\n",
       "6         👎  Andrew Huang       76\n",
       "7         👎   Joyce Luong      266\n",
       "9         😆  Andrew Huang      233"
      ]
     },
     "execution_count": 111,
     "metadata": {},
     "output_type": "execute_result"
    }
   ],
   "source": [
    "reactions[reactions['content'] > 1].head()"
   ]
  },
  {
   "cell_type": "code",
   "execution_count": 112,
   "metadata": {},
   "outputs": [
    {
     "data": {
      "image/png": "[encoded data removed]",
      "text/plain": [
       "<matplotlib.figure.Figure at 0x10a753a90>"
      ]
     },
     "metadata": {},
     "output_type": "display_data"
    }
   ],
   "source": [
    "ax = sns.barplot(x='content', y='reaction1', hue='actor1', data=reactions[reactions['content'] > 1])\n",
    "ax.set_title(\"Types of Reactions Used\");\n",
    "ax.set_ylabel(\"Reaction\")\n",
    "ax.set_xlabel(\"Count\");\n",
    "ax.set_yticklabels(('thumb up', 'thumb down', 'laugh', 'heart', 'angery', 'sad', ':o'));"
   ]
  },
  {
   "cell_type": "code",
   "execution_count": 136,
   "metadata": {},
   "outputs": [
    {
     "data": {
      "image/png": "[encoded data removed]",
      "text/plain": [
       "<matplotlib.figure.Figure at 0x1068e84e0>"
      ]
     },
     "metadata": {},
     "output_type": "display_data"
    }
   ],
   "source": [
    "overwatch = data[data['content'].str.contains('overwatch', na=False)]\n",
    "overwatch = overwatch.loc[:, ['content']]\n",
    "\n",
    "count = lambda row: list(row)\n",
    "overwatch = overwatch.groupby([reduced['year_month'], reduced['sender_name']]).count()\n",
    "overwatch.reset_index(inplace=True)\n",
    "\n",
    "ax = sns.barplot(x='year_month', y='content', hue='sender_name', data=overwatch, order=year_month)\n",
    "ax.set_xticklabels(ax.get_xticklabels(), rotation=90)\n",
    "ax.set_title(\"How Many Times 'Overwatch' Was Used\");\n",
    "ax.set_ylabel(\"Usage\")\n",
    "ax.set_xlabel(\"Month\");"
   ]
  },
  {
   "cell_type": "code",
   "execution_count": 135,
   "metadata": {},
   "outputs": [
    {
     "data": {
      "text/html": [
       "<div>\n",
       "<style scoped>\n",
       "    .dataframe tbody tr th:only-of-type {\n",
       "        vertical-align: middle;\n",
       "    }\n",
       "\n",
       "    .dataframe tbody tr th {\n",
       "        vertical-align: top;\n",
       "    }\n",
       "\n",
       "    .dataframe thead th {\n",
       "        text-align: right;\n",
       "    }\n",
       "</style>\n",
       "<table border=\"1\" class=\"dataframe\">\n",
       "  <thead>\n",
       "    <tr style=\"text-align: right;\">\n",
       "      <th></th>\n",
       "      <th></th>\n",
       "      <th>content</th>\n",
       "    </tr>\n",
       "    <tr>\n",
       "      <th>year_month</th>\n",
       "      <th>sender_name</th>\n",
       "      <th></th>\n",
       "    </tr>\n",
       "  </thead>\n",
       "  <tbody>\n",
       "    <tr>\n",
       "      <th>2016-05</th>\n",
       "      <th>Andrew Huang</th>\n",
       "      <td>[Want to play overwatch maybe]</td>\n",
       "    </tr>\n",
       "    <tr>\n",
       "      <th rowspan=\"2\" valign=\"top\">2018-07</th>\n",
       "      <th>Andrew Huang</th>\n",
       "      <td>[We're gonna need gaming rigs for overwatch, w...</td>\n",
       "    </tr>\n",
       "    <tr>\n",
       "      <th>Joyce Luong</th>\n",
       "      <td>[overwatch vids]</td>\n",
       "    </tr>\n",
       "    <tr>\n",
       "      <th rowspan=\"2\" valign=\"top\">2018-08</th>\n",
       "      <th>Andrew Huang</th>\n",
       "      <td>[sure, so I'll commit to not playing overwatch...</td>\n",
       "    </tr>\n",
       "    <tr>\n",
       "      <th>Joyce Luong</th>\n",
       "      <td>[Between `{book pact/mid aug trip/clim/overwat...</td>\n",
       "    </tr>\n",
       "    <tr>\n",
       "      <th rowspan=\"2\" valign=\"top\">2018-09</th>\n",
       "      <th>Andrew Huang</th>\n",
       "      <td>[I want to play more overwatch now lol, instea...</td>\n",
       "    </tr>\n",
       "    <tr>\n",
       "      <th>Joyce Luong</th>\n",
       "      <td>[Playing overwatch?, And when I’m over, and we...</td>\n",
       "    </tr>\n",
       "    <tr>\n",
       "      <th rowspan=\"2\" valign=\"top\">2018-10</th>\n",
       "      <th>Andrew Huang</th>\n",
       "      <td>[do you like talking  about overwatch with me?...</td>\n",
       "    </tr>\n",
       "    <tr>\n",
       "      <th>Joyce Luong</th>\n",
       "      <td>[I'm not getting linked to an overwatch stream...</td>\n",
       "    </tr>\n",
       "    <tr>\n",
       "      <th rowspan=\"2\" valign=\"top\">2018-11</th>\n",
       "      <th>Andrew Huang</th>\n",
       "      <td>[i think overwatch with two of us in the same ...</td>\n",
       "    </tr>\n",
       "    <tr>\n",
       "      <th>Joyce Luong</th>\n",
       "      <td>[well, better than playing a ton of overwatch ...</td>\n",
       "    </tr>\n",
       "    <tr>\n",
       "      <th rowspan=\"2\" valign=\"top\">2018-12</th>\n",
       "      <th>Andrew Huang</th>\n",
       "      <td>[lke overwatch, You wanna see the sickest pro ...</td>\n",
       "    </tr>\n",
       "    <tr>\n",
       "      <th>Joyce Luong</th>\n",
       "      <td>[https://charsiewspace.com/tagged/overwatch]</td>\n",
       "    </tr>\n",
       "    <tr>\n",
       "      <th>2019-01</th>\n",
       "      <th>Andrew Huang</th>\n",
       "      <td>[I was watching an overwatch video and the per...</td>\n",
       "    </tr>\n",
       "    <tr>\n",
       "      <th rowspan=\"2\" valign=\"top\">2019-02</th>\n",
       "      <th>Andrew Huang</th>\n",
       "      <td>[Lots of overwatch, https://kotaku.com/overwat...</td>\n",
       "    </tr>\n",
       "    <tr>\n",
       "      <th>Joyce Luong</th>\n",
       "      <td>[I've also noticed that you seem to be pretty ...</td>\n",
       "    </tr>\n",
       "  </tbody>\n",
       "</table>\n",
       "</div>"
      ],
      "text/plain": [
       "                                                                   content\n",
       "year_month sender_name                                                    \n",
       "2016-05    Andrew Huang                     [Want to play overwatch maybe]\n",
       "2018-07    Andrew Huang  [We're gonna need gaming rigs for overwatch, w...\n",
       "           Joyce Luong                                    [overwatch vids]\n",
       "2018-08    Andrew Huang  [sure, so I'll commit to not playing overwatch...\n",
       "           Joyce Luong   [Between `{book pact/mid aug trip/clim/overwat...\n",
       "2018-09    Andrew Huang  [I want to play more overwatch now lol, instea...\n",
       "           Joyce Luong   [Playing overwatch?, And when I’m over, and we...\n",
       "2018-10    Andrew Huang  [do you like talking  about overwatch with me?...\n",
       "           Joyce Luong   [I'm not getting linked to an overwatch stream...\n",
       "2018-11    Andrew Huang  [i think overwatch with two of us in the same ...\n",
       "           Joyce Luong   [well, better than playing a ton of overwatch ...\n",
       "2018-12    Andrew Huang  [lke overwatch, You wanna see the sickest pro ...\n",
       "           Joyce Luong        [https://charsiewspace.com/tagged/overwatch]\n",
       "2019-01    Andrew Huang  [I was watching an overwatch video and the per...\n",
       "2019-02    Andrew Huang  [Lots of overwatch, https://kotaku.com/overwat...\n",
       "           Joyce Luong   [I've also noticed that you seem to be pretty ..."
      ]
     },
     "execution_count": 135,
     "metadata": {},
     "output_type": "execute_result"
    }
   ],
   "source": [
    "overwatch = data[data['content'].str.contains('overwatch', na=False)]\n",
    "overwatch = overwatch.loc[:, ['content']]\n",
    "\n",
    "count = lambda row: list(row)\n",
    "overwatch = overwatch.groupby([reduced['year_month'], reduced['sender_name']]).agg(count)\n",
    "overwatch"
   ]
  },
  {
   "cell_type": "code",
   "execution_count": 113,
   "metadata": {},
   "outputs": [],
   "source": [
    "# To save everything to .json\n",
    "# data.to_json('output/feb-17-2019.json')"
   ]
  },
  {
   "cell_type": "code",
   "execution_count": null,
   "metadata": {},
   "outputs": [],
   "source": []
  },
  {
   "cell_type": "code",
   "execution_count": null,
   "metadata": {},
   "outputs": [],
   "source": []
  }
 ],
 "metadata": {
  "kernelspec": {
   "display_name": "Python 3",
   "language": "python",
   "name": "python3"
  },
  "language_info": {
   "codemirror_mode": {
    "name": "ipython",
    "version": 3
   },
   "file_extension": ".py",
   "mimetype": "text/x-python",
   "name": "python",
   "nbconvert_exporter": "python",
   "pygments_lexer": "ipython3",
   "version": "3.6.4"
  }
 },
 "nbformat": 4,
 "nbformat_minor": 2
}
