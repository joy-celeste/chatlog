{
 "cells": [
  {
   "cell_type": "code",
   "execution_count": 152,
   "metadata": {},
   "outputs": [],
   "source": [
    "import pandas as pd\n",
    "import numpy as np\n",
    "import zipfile\n",
    "import matplotlib\n",
    "import matplotlib.pyplot as plt\n",
    "import seaborn as sns\n",
    "\n",
    "%matplotlib inline\n",
    "plt.rcParams['figure.figsize'] = (12, 9)"
   ]
  },
  {
   "cell_type": "markdown",
   "metadata": {},
   "source": [
    "# Importing Data"
   ]
  },
  {
   "cell_type": "code",
   "execution_count": 153,
   "metadata": {},
   "outputs": [
    {
     "data": {
      "text/plain": [
       "Index(['content', 'reactions', 'sender_name', 'timestamp'], dtype='object')"
      ]
     },
     "execution_count": 153,
     "metadata": {},
     "output_type": "execute_result"
    }
   ],
   "source": [
    "import json\n",
    "from pandas.io.json import json_normalize\n",
    "\n",
    "# raw_data = pd.read_json(\"json/data.json\", orient=\"records\") ; works but fewer columns\n",
    "\n",
    "# Normalizing columns lets us get info from sub-arrays like 'share.link' and 'share.share_text'\n",
    "with open('andrews_original_formatted.json') as data_file:    \n",
    "    raw_data = json_normalize(json.load(data_file))\n",
    "\n",
    "raw_data.columns"
   ]
  },
  {
   "cell_type": "code",
   "execution_count": 154,
   "metadata": {},
   "outputs": [
    {
     "data": {
      "text/plain": [
       "Joyce Luong     62943\n",
       "Andrew Huang    51671\n",
       "Name: sender_name, dtype: int64"
      ]
     },
     "execution_count": 154,
     "metadata": {},
     "output_type": "execute_result"
    }
   ],
   "source": [
    "raw_data['sender_name'].value_counts()"
   ]
  },
  {
   "cell_type": "code",
   "execution_count": 155,
   "metadata": {},
   "outputs": [
    {
     "data": {
      "text/html": [
       "<div>\n",
       "<style scoped>\n",
       "    .dataframe tbody tr th:only-of-type {\n",
       "        vertical-align: middle;\n",
       "    }\n",
       "\n",
       "    .dataframe tbody tr th {\n",
       "        vertical-align: top;\n",
       "    }\n",
       "\n",
       "    .dataframe thead th {\n",
       "        text-align: right;\n",
       "    }\n",
       "</style>\n",
       "<table border=\"1\" class=\"dataframe\">\n",
       "  <thead>\n",
       "    <tr style=\"text-align: right;\">\n",
       "      <th></th>\n",
       "      <th>content</th>\n",
       "      <th>reactions</th>\n",
       "      <th>sender_name</th>\n",
       "      <th>timestamp</th>\n",
       "    </tr>\n",
       "  </thead>\n",
       "  <tbody>\n",
       "    <tr>\n",
       "      <th>0</th>\n",
       "      <td>Ok I guess I can download it on mine lol</td>\n",
       "      <td>[{'actor': 'Joyce Luong', 'reaction': '😍'}]</td>\n",
       "      <td>Andrew Huang</td>\n",
       "      <td>Sep 19, 2018 6:01pm</td>\n",
       "    </tr>\n",
       "    <tr>\n",
       "      <th>1</th>\n",
       "      <td>It’s empty</td>\n",
       "      <td>[]</td>\n",
       "      <td>Joyce Luong</td>\n",
       "      <td>Sep 19, 2018 6:00pm</td>\n",
       "    </tr>\n",
       "    <tr>\n",
       "      <th>2</th>\n",
       "      <td>It won’t pull</td>\n",
       "      <td>[]</td>\n",
       "      <td>Joyce Luong</td>\n",
       "      <td>Sep 19, 2018 6:00pm</td>\n",
       "    </tr>\n",
       "    <tr>\n",
       "      <th>3</th>\n",
       "      <td>Seems like a thing to try</td>\n",
       "      <td>[]</td>\n",
       "      <td>Andrew Huang</td>\n",
       "      <td>Sep 19, 2018 6:00pm</td>\n",
       "    </tr>\n",
       "    <tr>\n",
       "      <th>4</th>\n",
       "      <td>And pull it</td>\n",
       "      <td>[]</td>\n",
       "      <td>Andrew Huang</td>\n",
       "      <td>Sep 19, 2018 6:00pm</td>\n",
       "    </tr>\n",
       "  </tbody>\n",
       "</table>\n",
       "</div>"
      ],
      "text/plain": [
       "                                    content  \\\n",
       "0  Ok I guess I can download it on mine lol   \n",
       "1                                It’s empty   \n",
       "2                             It won’t pull   \n",
       "3                 Seems like a thing to try   \n",
       "4                               And pull it   \n",
       "\n",
       "                                     reactions   sender_name  \\\n",
       "0  [{'actor': 'Joyce Luong', 'reaction': '😍'}]  Andrew Huang   \n",
       "1                                           []   Joyce Luong   \n",
       "2                                           []   Joyce Luong   \n",
       "3                                           []  Andrew Huang   \n",
       "4                                           []  Andrew Huang   \n",
       "\n",
       "             timestamp  \n",
       "0  Sep 19, 2018 6:01pm  \n",
       "1  Sep 19, 2018 6:00pm  \n",
       "2  Sep 19, 2018 6:00pm  \n",
       "3  Sep 19, 2018 6:00pm  \n",
       "4  Sep 19, 2018 6:00pm  "
      ]
     },
     "execution_count": 155,
     "metadata": {},
     "output_type": "execute_result"
    }
   ],
   "source": [
    "raw_data.head()"
   ]
  },
  {
   "cell_type": "code",
   "execution_count": 156,
   "metadata": {},
   "outputs": [],
   "source": [
    "def decode_emoji(emoji):\n",
    "    # UTF8 emojis were incorrectly exported as Latin-1.\n",
    "    return emoji.encode('latin1').decode('utf8')\n",
    "\n",
    "def parse_reactions(r): \n",
    "    \"\"\" Parses and returns the reactions for a conversation between exactly two people.\n",
    "    \n",
    "    INPUT:  [{'reaction': 'ð\\x9f\\x91\\x8e', 'actor': 'Name1'},\n",
    "            {'reaction': 'ð\\x9f\\x98¢', 'actor': 'Name2'}]\n",
    "            \n",
    "    OUTPUT: \"Name1\", 😮, \"Name2\", 😍\n",
    "    \"\"\"\n",
    "    if len(r) == 0:\n",
    "        return None, None, None, None\n",
    "    \n",
    "    elif len(r) == 1:\n",
    "        return r[0]['actor'], r[0]['reaction'], None, None\n",
    "\n",
    "    else:\n",
    "        return r[0]['actor'], r[0]['reaction'], r[1]['actor'], r[1]['reaction']"
   ]
  },
  {
   "cell_type": "code",
   "execution_count": 157,
   "metadata": {},
   "outputs": [
    {
     "data": {
      "text/html": [
       "<div>\n",
       "<style scoped>\n",
       "    .dataframe tbody tr th:only-of-type {\n",
       "        vertical-align: middle;\n",
       "    }\n",
       "\n",
       "    .dataframe tbody tr th {\n",
       "        vertical-align: top;\n",
       "    }\n",
       "\n",
       "    .dataframe thead th {\n",
       "        text-align: right;\n",
       "    }\n",
       "</style>\n",
       "<table border=\"1\" class=\"dataframe\">\n",
       "  <thead>\n",
       "    <tr style=\"text-align: right;\">\n",
       "      <th></th>\n",
       "      <th>content</th>\n",
       "      <th>reactions</th>\n",
       "      <th>sender_name</th>\n",
       "      <th>timestamp</th>\n",
       "      <th>actor1</th>\n",
       "      <th>reaction1</th>\n",
       "      <th>actor2</th>\n",
       "      <th>reaction2</th>\n",
       "    </tr>\n",
       "  </thead>\n",
       "  <tbody>\n",
       "    <tr>\n",
       "      <th>0</th>\n",
       "      <td>Ok I guess I can download it on mine lol</td>\n",
       "      <td>[{'actor': 'Joyce Luong', 'reaction': '😍'}]</td>\n",
       "      <td>Andrew Huang</td>\n",
       "      <td>Sep 19, 2018 6:01pm</td>\n",
       "      <td>Joyce Luong</td>\n",
       "      <td>😍</td>\n",
       "      <td>None</td>\n",
       "      <td>None</td>\n",
       "    </tr>\n",
       "    <tr>\n",
       "      <th>1</th>\n",
       "      <td>It’s empty</td>\n",
       "      <td>[]</td>\n",
       "      <td>Joyce Luong</td>\n",
       "      <td>Sep 19, 2018 6:00pm</td>\n",
       "      <td>None</td>\n",
       "      <td>None</td>\n",
       "      <td>None</td>\n",
       "      <td>None</td>\n",
       "    </tr>\n",
       "    <tr>\n",
       "      <th>2</th>\n",
       "      <td>It won’t pull</td>\n",
       "      <td>[]</td>\n",
       "      <td>Joyce Luong</td>\n",
       "      <td>Sep 19, 2018 6:00pm</td>\n",
       "      <td>None</td>\n",
       "      <td>None</td>\n",
       "      <td>None</td>\n",
       "      <td>None</td>\n",
       "    </tr>\n",
       "  </tbody>\n",
       "</table>\n",
       "</div>"
      ],
      "text/plain": [
       "                                    content  \\\n",
       "0  Ok I guess I can download it on mine lol   \n",
       "1                                It’s empty   \n",
       "2                             It won’t pull   \n",
       "\n",
       "                                     reactions   sender_name  \\\n",
       "0  [{'actor': 'Joyce Luong', 'reaction': '😍'}]  Andrew Huang   \n",
       "1                                           []   Joyce Luong   \n",
       "2                                           []   Joyce Luong   \n",
       "\n",
       "             timestamp       actor1 reaction1 actor2 reaction2  \n",
       "0  Sep 19, 2018 6:01pm  Joyce Luong         😍   None      None  \n",
       "1  Sep 19, 2018 6:00pm         None      None   None      None  \n",
       "2  Sep 19, 2018 6:00pm         None      None   None      None  "
      ]
     },
     "execution_count": 157,
     "metadata": {},
     "output_type": "execute_result"
    }
   ],
   "source": [
    "# parse reaction data\n",
    "raw_data['actor1'], raw_data['reaction1'], raw_data['actor2'], raw_data['reaction2'] = \\\n",
    "    zip(*raw_data['reactions'].map(parse_reactions))\n",
    "\n",
    "raw_data.head(3)"
   ]
  },
  {
   "cell_type": "code",
   "execution_count": 158,
   "metadata": {},
   "outputs": [
    {
     "data": {
      "text/html": [
       "<div>\n",
       "<style scoped>\n",
       "    .dataframe tbody tr th:only-of-type {\n",
       "        vertical-align: middle;\n",
       "    }\n",
       "\n",
       "    .dataframe tbody tr th {\n",
       "        vertical-align: top;\n",
       "    }\n",
       "\n",
       "    .dataframe thead th {\n",
       "        text-align: right;\n",
       "    }\n",
       "</style>\n",
       "<table border=\"1\" class=\"dataframe\">\n",
       "  <thead>\n",
       "    <tr style=\"text-align: right;\">\n",
       "      <th></th>\n",
       "      <th>content</th>\n",
       "      <th>reactions</th>\n",
       "      <th>sender_name</th>\n",
       "      <th>timestamp</th>\n",
       "      <th>actor1</th>\n",
       "      <th>reaction1</th>\n",
       "      <th>actor2</th>\n",
       "      <th>reaction2</th>\n",
       "    </tr>\n",
       "  </thead>\n",
       "  <tbody>\n",
       "    <tr>\n",
       "      <th>0</th>\n",
       "      <td>Ok I guess I can download it on mine lol</td>\n",
       "      <td>[{'actor': 'Joyce Luong', 'reaction': '😍'}]</td>\n",
       "      <td>Andrew Huang</td>\n",
       "      <td>2018-09-19 18:01:00</td>\n",
       "      <td>Joyce Luong</td>\n",
       "      <td>😍</td>\n",
       "      <td>None</td>\n",
       "      <td>None</td>\n",
       "    </tr>\n",
       "    <tr>\n",
       "      <th>1</th>\n",
       "      <td>It’s empty</td>\n",
       "      <td>[]</td>\n",
       "      <td>Joyce Luong</td>\n",
       "      <td>2018-09-19 18:00:00</td>\n",
       "      <td>None</td>\n",
       "      <td>None</td>\n",
       "      <td>None</td>\n",
       "      <td>None</td>\n",
       "    </tr>\n",
       "    <tr>\n",
       "      <th>2</th>\n",
       "      <td>It won’t pull</td>\n",
       "      <td>[]</td>\n",
       "      <td>Joyce Luong</td>\n",
       "      <td>2018-09-19 18:00:00</td>\n",
       "      <td>None</td>\n",
       "      <td>None</td>\n",
       "      <td>None</td>\n",
       "      <td>None</td>\n",
       "    </tr>\n",
       "    <tr>\n",
       "      <th>3</th>\n",
       "      <td>Seems like a thing to try</td>\n",
       "      <td>[]</td>\n",
       "      <td>Andrew Huang</td>\n",
       "      <td>2018-09-19 18:00:00</td>\n",
       "      <td>None</td>\n",
       "      <td>None</td>\n",
       "      <td>None</td>\n",
       "      <td>None</td>\n",
       "    </tr>\n",
       "    <tr>\n",
       "      <th>4</th>\n",
       "      <td>And pull it</td>\n",
       "      <td>[]</td>\n",
       "      <td>Andrew Huang</td>\n",
       "      <td>2018-09-19 18:00:00</td>\n",
       "      <td>None</td>\n",
       "      <td>None</td>\n",
       "      <td>None</td>\n",
       "      <td>None</td>\n",
       "    </tr>\n",
       "  </tbody>\n",
       "</table>\n",
       "</div>"
      ],
      "text/plain": [
       "                                    content  \\\n",
       "0  Ok I guess I can download it on mine lol   \n",
       "1                                It’s empty   \n",
       "2                             It won’t pull   \n",
       "3                 Seems like a thing to try   \n",
       "4                               And pull it   \n",
       "\n",
       "                                     reactions   sender_name  \\\n",
       "0  [{'actor': 'Joyce Luong', 'reaction': '😍'}]  Andrew Huang   \n",
       "1                                           []   Joyce Luong   \n",
       "2                                           []   Joyce Luong   \n",
       "3                                           []  Andrew Huang   \n",
       "4                                           []  Andrew Huang   \n",
       "\n",
       "            timestamp       actor1 reaction1 actor2 reaction2  \n",
       "0 2018-09-19 18:01:00  Joyce Luong         😍   None      None  \n",
       "1 2018-09-19 18:00:00         None      None   None      None  \n",
       "2 2018-09-19 18:00:00         None      None   None      None  \n",
       "3 2018-09-19 18:00:00         None      None   None      None  \n",
       "4 2018-09-19 18:00:00         None      None   None      None  "
      ]
     },
     "execution_count": 158,
     "metadata": {},
     "output_type": "execute_result"
    }
   ],
   "source": [
    "raw_data['timestamp'] = pd.to_datetime(raw_data['timestamp'])\n",
    "raw_data.head()"
   ]
  },
  {
   "cell_type": "markdown",
   "metadata": {},
   "source": [
    "# Initial Impressions"
   ]
  },
  {
   "cell_type": "code",
   "execution_count": 159,
   "metadata": {},
   "outputs": [
    {
     "data": {
      "text/html": [
       "<div>\n",
       "<style scoped>\n",
       "    .dataframe tbody tr th:only-of-type {\n",
       "        vertical-align: middle;\n",
       "    }\n",
       "\n",
       "    .dataframe tbody tr th {\n",
       "        vertical-align: top;\n",
       "    }\n",
       "\n",
       "    .dataframe thead th {\n",
       "        text-align: right;\n",
       "    }\n",
       "</style>\n",
       "<table border=\"1\" class=\"dataframe\">\n",
       "  <thead>\n",
       "    <tr style=\"text-align: right;\">\n",
       "      <th></th>\n",
       "      <th>sender_name</th>\n",
       "      <th>timestamp</th>\n",
       "      <th>content</th>\n",
       "      <th>actor1</th>\n",
       "      <th>reaction1</th>\n",
       "      <th>actor2</th>\n",
       "      <th>reaction2</th>\n",
       "    </tr>\n",
       "  </thead>\n",
       "  <tbody>\n",
       "    <tr>\n",
       "      <th>0</th>\n",
       "      <td>Andrew Huang</td>\n",
       "      <td>2018-09-19 18:01:00</td>\n",
       "      <td>Ok I guess I can download it on mine lol</td>\n",
       "      <td>Joyce Luong</td>\n",
       "      <td>😍</td>\n",
       "      <td>None</td>\n",
       "      <td>None</td>\n",
       "    </tr>\n",
       "    <tr>\n",
       "      <th>1</th>\n",
       "      <td>Joyce Luong</td>\n",
       "      <td>2018-09-19 18:00:00</td>\n",
       "      <td>It’s empty</td>\n",
       "      <td>None</td>\n",
       "      <td>None</td>\n",
       "      <td>None</td>\n",
       "      <td>None</td>\n",
       "    </tr>\n",
       "    <tr>\n",
       "      <th>2</th>\n",
       "      <td>Joyce Luong</td>\n",
       "      <td>2018-09-19 18:00:00</td>\n",
       "      <td>It won’t pull</td>\n",
       "      <td>None</td>\n",
       "      <td>None</td>\n",
       "      <td>None</td>\n",
       "      <td>None</td>\n",
       "    </tr>\n",
       "    <tr>\n",
       "      <th>3</th>\n",
       "      <td>Andrew Huang</td>\n",
       "      <td>2018-09-19 18:00:00</td>\n",
       "      <td>Seems like a thing to try</td>\n",
       "      <td>None</td>\n",
       "      <td>None</td>\n",
       "      <td>None</td>\n",
       "      <td>None</td>\n",
       "    </tr>\n",
       "    <tr>\n",
       "      <th>4</th>\n",
       "      <td>Andrew Huang</td>\n",
       "      <td>2018-09-19 18:00:00</td>\n",
       "      <td>And pull it</td>\n",
       "      <td>None</td>\n",
       "      <td>None</td>\n",
       "      <td>None</td>\n",
       "      <td>None</td>\n",
       "    </tr>\n",
       "  </tbody>\n",
       "</table>\n",
       "</div>"
      ],
      "text/plain": [
       "    sender_name           timestamp                                   content  \\\n",
       "0  Andrew Huang 2018-09-19 18:01:00  Ok I guess I can download it on mine lol   \n",
       "1   Joyce Luong 2018-09-19 18:00:00                                It’s empty   \n",
       "2   Joyce Luong 2018-09-19 18:00:00                             It won’t pull   \n",
       "3  Andrew Huang 2018-09-19 18:00:00                 Seems like a thing to try   \n",
       "4  Andrew Huang 2018-09-19 18:00:00                               And pull it   \n",
       "\n",
       "        actor1 reaction1 actor2 reaction2  \n",
       "0  Joyce Luong         😍   None      None  \n",
       "1         None      None   None      None  \n",
       "2         None      None   None      None  \n",
       "3         None      None   None      None  \n",
       "4         None      None   None      None  "
      ]
     },
     "execution_count": 159,
     "metadata": {},
     "output_type": "execute_result"
    }
   ],
   "source": [
    "# only look at 'generic' messages\n",
    "# data = raw_data[raw_data['type'] == 'Generic'].copy()\n",
    "\n",
    "# print(\"NOTE: Lost these many non-generic rows: {} or {}%\". \\\n",
    "#      format(len(raw_data) - len(data), round(100*(len(raw_data) - len(data))/len(raw_data), 3)))\n",
    "\n",
    "# slice out columns of interest\n",
    "data = raw_data.loc[:, ['sender_name', 'timestamp', 'content', 'actor1', 'reaction1', 'actor2', 'reaction2']]\n",
    "\n",
    "data.head()"
   ]
  },
  {
   "cell_type": "markdown",
   "metadata": {},
   "source": [
    "## Number of Messages Sent Per Person"
   ]
  },
  {
   "cell_type": "code",
   "execution_count": 160,
   "metadata": {},
   "outputs": [
    {
     "data": {
      "text/plain": [
       "Joyce Luong     62943\n",
       "Andrew Huang    51671\n",
       "Name: sender_name, dtype: int64"
      ]
     },
     "execution_count": 160,
     "metadata": {},
     "output_type": "execute_result"
    }
   ],
   "source": [
    "data['sender_name'].value_counts()"
   ]
  },
  {
   "cell_type": "code",
   "execution_count": 168,
   "metadata": {},
   "outputs": [
    {
     "data": {
      "text/html": [
       "<div>\n",
       "<style scoped>\n",
       "    .dataframe tbody tr th:only-of-type {\n",
       "        vertical-align: middle;\n",
       "    }\n",
       "\n",
       "    .dataframe tbody tr th {\n",
       "        vertical-align: top;\n",
       "    }\n",
       "\n",
       "    .dataframe thead th {\n",
       "        text-align: right;\n",
       "    }\n",
       "</style>\n",
       "<table border=\"1\" class=\"dataframe\">\n",
       "  <thead>\n",
       "    <tr style=\"text-align: right;\">\n",
       "      <th></th>\n",
       "      <th>sender_name</th>\n",
       "      <th>timestamp</th>\n",
       "      <th>content</th>\n",
       "      <th>actor1</th>\n",
       "      <th>reaction1</th>\n",
       "      <th>actor2</th>\n",
       "      <th>reaction2</th>\n",
       "      <th>date</th>\n",
       "      <th>year_month</th>\n",
       "    </tr>\n",
       "  </thead>\n",
       "  <tbody>\n",
       "    <tr>\n",
       "      <th>0</th>\n",
       "      <td>Andrew Huang</td>\n",
       "      <td>2018-09-19 18:01:00</td>\n",
       "      <td>Ok I guess I can download it on mine lol</td>\n",
       "      <td>Joyce Luong</td>\n",
       "      <td>😍</td>\n",
       "      <td>None</td>\n",
       "      <td>None</td>\n",
       "      <td>Wed, Sep 19, 2018 @ 06:01:00 PM</td>\n",
       "      <td>2018-09</td>\n",
       "    </tr>\n",
       "    <tr>\n",
       "      <th>1</th>\n",
       "      <td>Joyce Luong</td>\n",
       "      <td>2018-09-19 18:00:00</td>\n",
       "      <td>It’s empty</td>\n",
       "      <td>None</td>\n",
       "      <td>None</td>\n",
       "      <td>None</td>\n",
       "      <td>None</td>\n",
       "      <td>Wed, Sep 19, 2018 @ 06:00:00 PM</td>\n",
       "      <td>2018-09</td>\n",
       "    </tr>\n",
       "    <tr>\n",
       "      <th>2</th>\n",
       "      <td>Joyce Luong</td>\n",
       "      <td>2018-09-19 18:00:00</td>\n",
       "      <td>It won’t pull</td>\n",
       "      <td>None</td>\n",
       "      <td>None</td>\n",
       "      <td>None</td>\n",
       "      <td>None</td>\n",
       "      <td>Wed, Sep 19, 2018 @ 06:00:00 PM</td>\n",
       "      <td>2018-09</td>\n",
       "    </tr>\n",
       "    <tr>\n",
       "      <th>3</th>\n",
       "      <td>Andrew Huang</td>\n",
       "      <td>2018-09-19 18:00:00</td>\n",
       "      <td>Seems like a thing to try</td>\n",
       "      <td>None</td>\n",
       "      <td>None</td>\n",
       "      <td>None</td>\n",
       "      <td>None</td>\n",
       "      <td>Wed, Sep 19, 2018 @ 06:00:00 PM</td>\n",
       "      <td>2018-09</td>\n",
       "    </tr>\n",
       "    <tr>\n",
       "      <th>4</th>\n",
       "      <td>Andrew Huang</td>\n",
       "      <td>2018-09-19 18:00:00</td>\n",
       "      <td>And pull it</td>\n",
       "      <td>None</td>\n",
       "      <td>None</td>\n",
       "      <td>None</td>\n",
       "      <td>None</td>\n",
       "      <td>Wed, Sep 19, 2018 @ 06:00:00 PM</td>\n",
       "      <td>2018-09</td>\n",
       "    </tr>\n",
       "  </tbody>\n",
       "</table>\n",
       "</div>"
      ],
      "text/plain": [
       "    sender_name           timestamp                                   content  \\\n",
       "0  Andrew Huang 2018-09-19 18:01:00  Ok I guess I can download it on mine lol   \n",
       "1   Joyce Luong 2018-09-19 18:00:00                                It’s empty   \n",
       "2   Joyce Luong 2018-09-19 18:00:00                             It won’t pull   \n",
       "3  Andrew Huang 2018-09-19 18:00:00                 Seems like a thing to try   \n",
       "4  Andrew Huang 2018-09-19 18:00:00                               And pull it   \n",
       "\n",
       "        actor1 reaction1 actor2 reaction2                             date  \\\n",
       "0  Joyce Luong         😍   None      None  Wed, Sep 19, 2018 @ 06:01:00 PM   \n",
       "1         None      None   None      None  Wed, Sep 19, 2018 @ 06:00:00 PM   \n",
       "2         None      None   None      None  Wed, Sep 19, 2018 @ 06:00:00 PM   \n",
       "3         None      None   None      None  Wed, Sep 19, 2018 @ 06:00:00 PM   \n",
       "4         None      None   None      None  Wed, Sep 19, 2018 @ 06:00:00 PM   \n",
       "\n",
       "  year_month  \n",
       "0    2018-09  \n",
       "1    2018-09  \n",
       "2    2018-09  \n",
       "3    2018-09  \n",
       "4    2018-09  "
      ]
     },
     "execution_count": 168,
     "metadata": {},
     "output_type": "execute_result"
    }
   ],
   "source": [
    "#data['month'] = data['timestamp'].dt.month\n",
    "#data['hour'] = data['timestamp'].dt.hour\n",
    "data['date'] = data['timestamp'].dt.strftime('%a, %b %d, %Y @ %r')\n",
    "data['year_month'] = data['timestamp'].dt.strftime('%Y-%m')\n",
    "data.head(5)"
   ]
  },
  {
   "cell_type": "code",
   "execution_count": 162,
   "metadata": {},
   "outputs": [
    {
     "data": {
      "image/png": "[encoded data removed]",
      "text/plain": [
       "<matplotlib.figure.Figure at 0x1a22bb1eb8>"
      ]
     },
     "metadata": {},
     "output_type": "display_data"
    }
   ],
   "source": [
    "ax = sns.countplot(data['timestamp'].dt.year)\n",
    "ax.set_ylabel(\"Year\")\n",
    "ax.set_xlabel(\"Number of Messages\")\n",
    "ax.set_title(\"Number of Messages By Year\");"
   ]
  },
  {
   "cell_type": "code",
   "execution_count": 163,
   "metadata": {},
   "outputs": [
    {
     "data": {
      "image/png": "[encoded data removed]",
      "text/plain": [
       "<matplotlib.figure.Figure at 0x1a23cb4048>"
      ]
     },
     "metadata": {},
     "output_type": "display_data"
    }
   ],
   "source": [
    "ax = sns.countplot(data['timestamp'].dt.month)\n",
    "ax.set_xlabel(\"Month\")\n",
    "ax.set_ylabel(\"Number of Messages\")\n",
    "ax.set_title(\"Number of Messages By Month\");"
   ]
  },
  {
   "cell_type": "code",
   "execution_count": 164,
   "metadata": {},
   "outputs": [
    {
     "ename": "ValueError",
     "evalue": "Could not interpret input 'hour'",
     "output_type": "error",
     "traceback": [
      "\u001b[0;31m---------------------------------------------------------------------------\u001b[0m",
      "\u001b[0;31mValueError\u001b[0m                                Traceback (most recent call last)",
      "\u001b[0;32m<ipython-input-164-0621d66c5b47>\u001b[0m in \u001b[0;36m<module>\u001b[0;34m()\u001b[0m\n\u001b[0;32m----> 1\u001b[0;31m \u001b[0max\u001b[0m \u001b[0;34m=\u001b[0m \u001b[0msns\u001b[0m\u001b[0;34m.\u001b[0m\u001b[0mcountplot\u001b[0m\u001b[0;34m(\u001b[0m\u001b[0mx\u001b[0m\u001b[0;34m=\u001b[0m\u001b[0;34m'hour'\u001b[0m\u001b[0;34m,\u001b[0m\u001b[0mhue\u001b[0m\u001b[0;34m=\u001b[0m\u001b[0;34m'sender_name'\u001b[0m\u001b[0;34m,\u001b[0m\u001b[0mdata\u001b[0m\u001b[0;34m=\u001b[0m\u001b[0mdata\u001b[0m\u001b[0;34m)\u001b[0m\u001b[0;34m\u001b[0m\u001b[0m\n\u001b[0m\u001b[1;32m      2\u001b[0m \u001b[0max\u001b[0m\u001b[0;34m.\u001b[0m\u001b[0mset_title\u001b[0m\u001b[0;34m(\u001b[0m\u001b[0;34m\"Number of Messages By Hour\"\u001b[0m\u001b[0;34m)\u001b[0m\u001b[0;34m;\u001b[0m\u001b[0;34m\u001b[0m\u001b[0m\n",
      "\u001b[0;32m~/miniconda2/envs/data100/lib/python3.6/site-packages/seaborn/categorical.py\u001b[0m in \u001b[0;36mcountplot\u001b[0;34m(x, y, hue, data, order, hue_order, orient, color, palette, saturation, dodge, ax, **kwargs)\u001b[0m\n\u001b[1;32m   3551\u001b[0m                           \u001b[0mestimator\u001b[0m\u001b[0;34m,\u001b[0m \u001b[0mci\u001b[0m\u001b[0;34m,\u001b[0m \u001b[0mn_boot\u001b[0m\u001b[0;34m,\u001b[0m \u001b[0munits\u001b[0m\u001b[0;34m,\u001b[0m\u001b[0;34m\u001b[0m\u001b[0m\n\u001b[1;32m   3552\u001b[0m                           \u001b[0morient\u001b[0m\u001b[0;34m,\u001b[0m \u001b[0mcolor\u001b[0m\u001b[0;34m,\u001b[0m \u001b[0mpalette\u001b[0m\u001b[0;34m,\u001b[0m \u001b[0msaturation\u001b[0m\u001b[0;34m,\u001b[0m\u001b[0;34m\u001b[0m\u001b[0m\n\u001b[0;32m-> 3553\u001b[0;31m                           errcolor, errwidth, capsize, dodge)\n\u001b[0m\u001b[1;32m   3554\u001b[0m \u001b[0;34m\u001b[0m\u001b[0m\n\u001b[1;32m   3555\u001b[0m     \u001b[0mplotter\u001b[0m\u001b[0;34m.\u001b[0m\u001b[0mvalue_label\u001b[0m \u001b[0;34m=\u001b[0m \u001b[0;34m\"count\"\u001b[0m\u001b[0;34m\u001b[0m\u001b[0m\n",
      "\u001b[0;32m~/miniconda2/envs/data100/lib/python3.6/site-packages/seaborn/categorical.py\u001b[0m in \u001b[0;36m__init__\u001b[0;34m(self, x, y, hue, data, order, hue_order, estimator, ci, n_boot, units, orient, color, palette, saturation, errcolor, errwidth, capsize, dodge)\u001b[0m\n\u001b[1;32m   1605\u001b[0m         \u001b[0;34m\"\"\"Initialize the plotter.\"\"\"\u001b[0m\u001b[0;34m\u001b[0m\u001b[0m\n\u001b[1;32m   1606\u001b[0m         self.establish_variables(x, y, hue, data, orient,\n\u001b[0;32m-> 1607\u001b[0;31m                                  order, hue_order, units)\n\u001b[0m\u001b[1;32m   1608\u001b[0m         \u001b[0mself\u001b[0m\u001b[0;34m.\u001b[0m\u001b[0mestablish_colors\u001b[0m\u001b[0;34m(\u001b[0m\u001b[0mcolor\u001b[0m\u001b[0;34m,\u001b[0m \u001b[0mpalette\u001b[0m\u001b[0;34m,\u001b[0m \u001b[0msaturation\u001b[0m\u001b[0;34m)\u001b[0m\u001b[0;34m\u001b[0m\u001b[0m\n\u001b[1;32m   1609\u001b[0m         \u001b[0mself\u001b[0m\u001b[0;34m.\u001b[0m\u001b[0mestimate_statistic\u001b[0m\u001b[0;34m(\u001b[0m\u001b[0mestimator\u001b[0m\u001b[0;34m,\u001b[0m \u001b[0mci\u001b[0m\u001b[0;34m,\u001b[0m \u001b[0mn_boot\u001b[0m\u001b[0;34m)\u001b[0m\u001b[0;34m\u001b[0m\u001b[0m\n",
      "\u001b[0;32m~/miniconda2/envs/data100/lib/python3.6/site-packages/seaborn/categorical.py\u001b[0m in \u001b[0;36mestablish_variables\u001b[0;34m(self, x, y, hue, data, orient, order, hue_order, units)\u001b[0m\n\u001b[1;32m    153\u001b[0m                 \u001b[0;32mif\u001b[0m \u001b[0misinstance\u001b[0m\u001b[0;34m(\u001b[0m\u001b[0minput\u001b[0m\u001b[0;34m,\u001b[0m \u001b[0mstring_types\u001b[0m\u001b[0;34m)\u001b[0m\u001b[0;34m:\u001b[0m\u001b[0;34m\u001b[0m\u001b[0m\n\u001b[1;32m    154\u001b[0m                     \u001b[0merr\u001b[0m \u001b[0;34m=\u001b[0m \u001b[0;34m\"Could not interpret input '{}'\"\u001b[0m\u001b[0;34m.\u001b[0m\u001b[0mformat\u001b[0m\u001b[0;34m(\u001b[0m\u001b[0minput\u001b[0m\u001b[0;34m)\u001b[0m\u001b[0;34m\u001b[0m\u001b[0m\n\u001b[0;32m--> 155\u001b[0;31m                     \u001b[0;32mraise\u001b[0m \u001b[0mValueError\u001b[0m\u001b[0;34m(\u001b[0m\u001b[0merr\u001b[0m\u001b[0;34m)\u001b[0m\u001b[0;34m\u001b[0m\u001b[0m\n\u001b[0m\u001b[1;32m    156\u001b[0m \u001b[0;34m\u001b[0m\u001b[0m\n\u001b[1;32m    157\u001b[0m             \u001b[0;31m# Figure out the plotting orientation\u001b[0m\u001b[0;34m\u001b[0m\u001b[0;34m\u001b[0m\u001b[0m\n",
      "\u001b[0;31mValueError\u001b[0m: Could not interpret input 'hour'"
     ]
    }
   ],
   "source": [
    "ax = sns.countplot(x='hour',hue='sender_name',data=data)\n",
    "ax.set_title(\"Number of Messages By Hour\");"
   ]
  },
  {
   "cell_type": "code",
   "execution_count": null,
   "metadata": {},
   "outputs": [],
   "source": [
    "year_month = sorted(data['year_month'].unique()) # order to display the x-axis\n",
    "ax = sns.countplot(x='year_month', hue='sender_name', data=data, order=year_month)\n",
    "ax.set_xticklabels(ax.get_xticklabels(), rotation=90)\n",
    "ax.set_title(\"Number of Messages By Month\");"
   ]
  },
  {
   "cell_type": "code",
   "execution_count": null,
   "metadata": {},
   "outputs": [],
   "source": [
    "count_chars = lambda row: sum([len(message) for message in row])\n",
    "\n",
    "reduced = data.loc[:, ['year_month', 'sender_name', 'content']]\n",
    "char_len = reduced.groupby([reduced['year_month'], reduced['sender_name']]).agg(count_chars)\n",
    "\n",
    "char_len.reset_index(inplace=True)"
   ]
  },
  {
   "cell_type": "code",
   "execution_count": null,
   "metadata": {},
   "outputs": [],
   "source": [
    "ax = sns.barplot(x='year_month', y='content', hue='sender_name', data=char_len)\n",
    "ax.set_xticklabels(ax.get_xticklabels(), rotation=90)\n",
    "ax.set_title(\"Character Count by Month\");\n",
    "ax.set_ylabel(\"Characters\")\n",
    "ax.set_xlabel(\"Month\");"
   ]
  },
  {
   "cell_type": "code",
   "execution_count": 165,
   "metadata": {},
   "outputs": [
    {
     "data": {
      "text/html": [
       "<div>\n",
       "<style scoped>\n",
       "    .dataframe tbody tr th:only-of-type {\n",
       "        vertical-align: middle;\n",
       "    }\n",
       "\n",
       "    .dataframe tbody tr th {\n",
       "        vertical-align: top;\n",
       "    }\n",
       "\n",
       "    .dataframe thead th {\n",
       "        text-align: right;\n",
       "    }\n",
       "</style>\n",
       "<table border=\"1\" class=\"dataframe\">\n",
       "  <thead>\n",
       "    <tr style=\"text-align: right;\">\n",
       "      <th></th>\n",
       "      <th>sender_name</th>\n",
       "      <th>timestamp</th>\n",
       "      <th>content</th>\n",
       "      <th>actor1</th>\n",
       "      <th>reaction1</th>\n",
       "      <th>actor2</th>\n",
       "      <th>reaction2</th>\n",
       "    </tr>\n",
       "  </thead>\n",
       "  <tbody>\n",
       "    <tr>\n",
       "      <th>0</th>\n",
       "      <td>Andrew Huang</td>\n",
       "      <td>2018-09-19 18:01:00</td>\n",
       "      <td>Ok I guess I can download it on mine lol</td>\n",
       "      <td>Joyce Luong</td>\n",
       "      <td>😍</td>\n",
       "      <td>None</td>\n",
       "      <td>None</td>\n",
       "    </tr>\n",
       "    <tr>\n",
       "      <th>1</th>\n",
       "      <td>Joyce Luong</td>\n",
       "      <td>2018-09-19 18:00:00</td>\n",
       "      <td>It’s empty</td>\n",
       "      <td>None</td>\n",
       "      <td>None</td>\n",
       "      <td>None</td>\n",
       "      <td>None</td>\n",
       "    </tr>\n",
       "    <tr>\n",
       "      <th>2</th>\n",
       "      <td>Joyce Luong</td>\n",
       "      <td>2018-09-19 18:00:00</td>\n",
       "      <td>It won’t pull</td>\n",
       "      <td>None</td>\n",
       "      <td>None</td>\n",
       "      <td>None</td>\n",
       "      <td>None</td>\n",
       "    </tr>\n",
       "    <tr>\n",
       "      <th>3</th>\n",
       "      <td>Andrew Huang</td>\n",
       "      <td>2018-09-19 18:00:00</td>\n",
       "      <td>Seems like a thing to try</td>\n",
       "      <td>None</td>\n",
       "      <td>None</td>\n",
       "      <td>None</td>\n",
       "      <td>None</td>\n",
       "    </tr>\n",
       "    <tr>\n",
       "      <th>4</th>\n",
       "      <td>Andrew Huang</td>\n",
       "      <td>2018-09-19 18:00:00</td>\n",
       "      <td>And pull it</td>\n",
       "      <td>None</td>\n",
       "      <td>None</td>\n",
       "      <td>None</td>\n",
       "      <td>None</td>\n",
       "    </tr>\n",
       "  </tbody>\n",
       "</table>\n",
       "</div>"
      ],
      "text/plain": [
       "    sender_name           timestamp                                   content  \\\n",
       "0  Andrew Huang 2018-09-19 18:01:00  Ok I guess I can download it on mine lol   \n",
       "1   Joyce Luong 2018-09-19 18:00:00                                It’s empty   \n",
       "2   Joyce Luong 2018-09-19 18:00:00                             It won’t pull   \n",
       "3  Andrew Huang 2018-09-19 18:00:00                 Seems like a thing to try   \n",
       "4  Andrew Huang 2018-09-19 18:00:00                               And pull it   \n",
       "\n",
       "        actor1 reaction1 actor2 reaction2  \n",
       "0  Joyce Luong         😍   None      None  \n",
       "1         None      None   None      None  \n",
       "2         None      None   None      None  \n",
       "3         None      None   None      None  \n",
       "4         None      None   None      None  "
      ]
     },
     "execution_count": 165,
     "metadata": {},
     "output_type": "execute_result"
    }
   ],
   "source": [
    "data.head()"
   ]
  },
  {
   "cell_type": "code",
   "execution_count": 166,
   "metadata": {},
   "outputs": [],
   "source": [
    "data.to_csv('corrected_html.csv', index=False)"
   ]
  },
  {
   "cell_type": "code",
   "execution_count": null,
   "metadata": {},
   "outputs": [],
   "source": []
  }
 ],
 "metadata": {
  "kernelspec": {
   "display_name": "Python 3",
   "language": "python",
   "name": "python3"
  },
  "language_info": {
   "codemirror_mode": {
    "name": "ipython",
    "version": 3
   },
   "file_extension": ".py",
   "mimetype": "text/x-python",
   "name": "python",
   "nbconvert_exporter": "python",
   "pygments_lexer": "ipython3",
   "version": "3.6.4"
  }
 },
 "nbformat": 4,
 "nbformat_minor": 2
}
